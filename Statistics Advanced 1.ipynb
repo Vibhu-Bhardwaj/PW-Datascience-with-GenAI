{
  "cells": [
    {
      "cell_type": "markdown",
      "id": "1ec9de01",
      "metadata": {
        "id": "1ec9de01"
      },
      "source": [
        "# Statistics Advanced - 1 Assignment"
      ]
    },
    {
      "cell_type": "markdown",
      "id": "9575e372",
      "metadata": {
        "id": "9575e372"
      },
      "source": [
        "### **Question 1: What is a random variable in probability theory?**\n",
        "**Answer (long):**\n",
        "A *random variable* is a function that assigns a numerical value to each outcome in a probabilistic experiment. Formally, given a sample space \\(\\Omega\\) (the set of all possible outcomes), a random variable \\(X\\) is a measurable function \\(X: \\Omega \\rightarrow \\mathbb{R}\\). Random variables let us move from abstract outcomes (like 'roll is six' or 'it's raining') to numbers that we can analyze with mathematical tools.\n",
        "\n",
        "Random variables are used to model uncertainty: for example, the number of heads in 10 coin flips, the daily sales of a store, or the lifetime (in years) of a lightbulb. Importantly, random variables are characterized by their probability distributions (mass functions for discrete variables or density functions for continuous variables), which tell us how probabilities are assigned to ranges of values.\n",
        "\n",
        "**Key concepts associated with random variables:**\n",
        "- **Support:** The set of values that the random variable can take with nonzero probability.\n",
        "- **Distribution:** For discrete variables, the probability mass function (PMF); for continuous variables, the probability density function (PDF).\n",
        "- **Cumulative distribution function (CDF):** \\(F_X(x) = P(X \\le x)\\), which is defined for all real numbers and fully characterizes the distribution.\n",
        "\n",
        "**Example:** Let \\(X\\) be the number of heads in three fair coin flips. \\(X\\) is a discrete random variable with support \\{0,1,2,3\\} and PMF \\(P(X=k) = {3 \\choose k} (1/2)^3\\)."
      ]
    },
    {
      "cell_type": "markdown",
      "id": "f2064528",
      "metadata": {
        "id": "f2064528"
      },
      "source": [
        "### Question 2: What are the types of random variables?\n",
        "**Answer (long):**\n",
        "Random variables are commonly categorized into two broad types based on the nature of their possible values:\n",
        "\n",
        "1. **Discrete random variables:** These take on countable values (finite or countably infinite). Typical examples include counts (number of defects in a batch), outcomes of dice, or categories encoded as integers. Discrete random variables are described by a probability mass function (PMF) \\(p_X(k) = P(X=k)\\) that gives the probability for each possible value.\n",
        "\n",
        "2. **Continuous random variables:** These take on values in continuous ranges (intervals of the real line). Examples include heights, weights, or measurement errors. Continuous random variables are described by a probability density function (PDF) \\(f_X(x)\\) such that probabilities are computed by integrals: \\(P(a \\le X \\le b) = \\int_a^b f_X(x) \\, dx\\). For continuous variables, the probability at any single point is zero; only intervals have positive probability.\n",
        "\n",
        "There are also mixed-type random variables (with both discrete and continuous components), and sometimes subcategories like ordinal variables (discrete with ordering) used in statistics. The choice between discrete and continuous affects the analysis techniques and the tools used (sums vs integrals, PMF vs PDF, etc.)."
      ]
    },
    {
      "cell_type": "markdown",
      "id": "2a54c46d",
      "metadata": {
        "id": "2a54c46d"
      },
      "source": [
        "### Question 3: Explain the difference between discrete and continuous distributions.\n",
        "**Answer (long):**\n",
        "The distinction between discrete and continuous distributions lies in the type of support (the set of possible values) and how probability is assigned.\n",
        "\n",
        "- **Discrete distributions:** The random variable takes isolated values (e.g., integers). Probabilities are given by a probability mass function (PMF) \\(p(k) = P(X=k)\\). To find the probability of the variable being in a set, we sum the PMF over the set. Examples include the Binomial, Poisson, and Geometric distributions.\n",
        "\n",
        "- **Continuous distributions:** The random variable takes values in a continuous interval. There is no probability mass at individual points; instead, probabilities are given via a probability density function (PDF) \\(f(x)\\), and probabilities for intervals are integrals of the PDF: \\(P(a \\le X \\le b) = \\int_a^b f(x) \\, dx\\). Examples include the Normal (Gaussian), Exponential, and Uniform continuous distributions.\n",
        "\n",
        "**Practical consequences:**\n",
        "- When computing expected values and variances, sums are used for discrete cases and integrals for continuous cases.\n",
        "- Discrete distributions often model counts/events; continuous distributions model measurements or durations.\n",
        "- Graphically, PMFs are shown with bars (probability at points), while PDFs are shown as smooth curves (densities).\n",
        "\n",
        "**Example:** The Poisson distribution (discrete) models the number of events in a fixed interval; the Exponential distribution (continuous) models waiting times between independent events."
      ]
    },
    {
      "cell_type": "markdown",
      "id": "347cbe29",
      "metadata": {
        "id": "347cbe29"
      },
      "source": [
        "### Question 4: What is a binomial distribution, and how is it used in probability?\n",
        "**Answer (long):**\n",
        "The **Binomial distribution** models the number of successes in a fixed number \\(n\\) of independent Bernoulli trials, where each trial has the same probability of success \\(p\\). It is a discrete distribution with PMF:\n",
        "\n",
        "\\[ P(X = k) = {n \\choose k} p^k (1-p)^{n-k}, \\quad k = 0,1,\\dots,n. \\]\n",
        "\n",
        "Here, \\({n \\choose k}\\) is the binomial coefficient representing the number of ways to choose \\(k\\) successes among \\(n\\) trials.\n",
        "\n",
        "**Interpretation and uses:**\n",
        "- The binomial distribution is used whenever we have repeated independent trials with two outcomes (success/failure), identical success probability, and we are interested in the total number of successes. Example applications include quality control (number of defective items in a sample), clinical trials (number of patients who respond to a treatment), and survey sampling (number of people who prefer a specific option).\n",
        "\n",
        "**Properties:**\n",
        "- Mean: \\(E[X] = np\\)\n",
        "- Variance: \\(\\mathrm{Var}(X) = np(1-p)\\)\n",
        "\n",
        "**Example:** If a coin with probability of heads \\(p=0.5\\) is flipped \\(n=10\\) times, the number of heads \\(X\\) follows \\(\\text{Bin}(10, 0.5)\\). The probability of exactly 4 heads is \\({10 \\choose 4} (0.5)^{10}\\."
      ]
    },
    {
      "cell_type": "markdown",
      "id": "6b105ff7",
      "metadata": {
        "id": "6b105ff7"
      },
      "source": [
        "### Question 5: What is the standard normal distribution, and why is it important?\n",
        "**Answer (long):**\n",
        "The **standard normal distribution** is a continuous probability distribution with a mean of 0 and a standard deviation of 1. Its probability density function is:\n",
        "\n",
        "\\[ \\phi(x) = \\frac{1}{\\sqrt{2\\pi}} e^{-x^2/2}, \\quad x \\in \\mathbb{R}. \\]\n",
        "\n",
        "The standard normal is important because many other normal distributions can be standardized (converted) to it by the transformation \\(Z = (X - \\mu)/\\sigma\\), where \\(X\\) is normally distributed with mean \\(\\mu\\) and standard deviation \\(\\sigma\\). Tables and functions for the standard normal CDF are widely available and used to compute probabilities and critical values.\n",
        "\n",
        "**Why it's critical:**\n",
        "- The Normal distribution arises naturally in many contexts (measurement errors, biological characteristics) and as an approximation for sums of many small independent effects.\n",
        "- It is central to many statistical methods: hypothesis testing, confidence intervals, and as the limiting distribution in the Central Limit Theorem.\n",
        "\n",
        "**Properties:** symmetric around zero, unimodal, and fully described by mean and variance. Standard normal quantiles (e.g., \\(z_{0.975} \\approx 1.96\\)) are used for constructing 95% confidence intervals under normality assumptions."
      ]
    },
    {
      "cell_type": "markdown",
      "id": "8ea17557",
      "metadata": {
        "id": "8ea17557"
      },
      "source": [
        "### Question 6: What is the Central Limit Theorem (CLT), and why is it critical in statistics?\n",
        "**Answer (long):**\n",
        "The **Central Limit Theorem (CLT)** states that, under fairly general conditions, the distribution of the sample mean (or sum) of a large number of independent, identically distributed (i.i.d.) random variables will be approximately normal, regardless of the original distribution of the variables. Formally, if \\(X_1, X_2, \\dots, X_n\\) are i.i.d. with mean \\(\\mu\\) and variance \\(\\sigma^2\\), then as \\(n\\) grows:\n",
        "\n",
        "\\[ \\frac{\\bar{X} - \\mu}{\\sigma / \\sqrt{n}} \\xrightarrow{d} N(0,1), \\]\n",
        "\n",
        "where \\(\\bar{X} = \\frac{1}{n}\\sum_{i=1}^n X_i\\) is the sample mean.\n",
        "\n",
        "**Why CLT matters:**\n",
        "- It justifies using normal-based inference (confidence intervals, hypothesis tests) for sample means and sums even when the original data are not normal, provided the sample size is sufficiently large.\n",
        "- It underpins many practical statistical procedures and helps explain why the Normal distribution appears so frequently in real data.\n",
        "\n",
        "**Practical notes:**\n",
        "- 'Sufficiently large' depends on the skewness and tail behavior of the underlying distribution; for mildly skewed distributions, \\(n \\ge 30\\) is a common rule-of-thumb, but more may be required for heavy-tailed distributions.\n",
        "- For small sample sizes, one should use exact distributions (e.g., t-distribution for means when variance unknown) or nonparametric methods."
      ]
    },
    {
      "cell_type": "markdown",
      "id": "b7543caa",
      "metadata": {
        "id": "b7543caa"
      },
      "source": [
        "### Question 7: What is the significance of confidence intervals in statistical analysis?\n",
        "**Answer (long):**\n",
        "A **confidence interval (CI)** provides a range of plausible values for an unknown population parameter (such as a mean or proportion) based on sample data and a specified level of confidence (e.g., 95%). Formally, a 95% CI for a parameter \\(\\theta\\) is an interval constructed from data such that if we repeated the sampling process many times, approximately 95% of the resulting intervals would contain the true parameter value.\n",
        "\n",
        "**Interpretation and use:**\n",
        "- A CI quantifies uncertainty: instead of providing a single point estimate, it gives a range and indicates the precision of the estimate.\n",
        "- The width of a CI depends on sample size, variability in the data, and the chosen confidence level. Larger samples and lower variability yield narrower (more precise) intervals.\n",
        "\n",
        "**Construction example (mean with known variance):**\n",
        "\\[ \\bar{x} \\pm z_{\\alpha/2} \\frac{\\sigma}{\\sqrt{n}}. \\]\n",
        "When variance is unknown and sample size is small, the t-distribution is used instead of the standard normal.\n",
        "\n",
        "**Important caution:** A 95% CI does *not* mean there's a 95% probability the parameter lies in the computed interval for the observed data — the parameter is fixed (not random); the probability statement pertains to the long-run frequency of the method."
      ]
    },
    {
      "cell_type": "markdown",
      "id": "b4e67e3d",
      "metadata": {
        "id": "b4e67e3d"
      },
      "source": [
        "### Question 8: What is the concept of expected value in a probability distribution?\n",
        "**Answer (long):**\n",
        "The **expected value** (or expectation, mean) of a random variable is the long-run average value we would obtain if we could repeat the random experiment infinitely many times. It is a measure of central tendency for the distribution.\n",
        "\n",
        "For a discrete random variable with PMF \\(p(k)\\),\n",
        "\\[ E[X] = \\sum_k k \\cdot p(k). \\]\n",
        "For a continuous random variable with PDF \\(f(x)\\),\n",
        "\\[ E[X] = \\int_{-\\infty}^{\\infty} x f(x) \\, dx. \\]\n",
        "\n",
        "The expected value is linear: \\(E[aX + bY] = aE[X] + bE[Y]\\) for constants \\(a,b\\). It is foundational for defining other quantities like variance (\\(Var(X)=E[(X-E[X])^2]\\)) and plays a central role in decision theory, risk analysis, and statistical modeling.\n",
        "\n",
        "**Example:** For a fair six-sided die, the expected value of the face is \\(E[X] = (1+2+3+4+5+6)/6 = 3.5\\). This does not mean 3.5 is an outcome; it is the average over many rolls."
      ]
    },
    {
      "cell_type": "markdown",
      "id": "2af2b6d8",
      "metadata": {
        "id": "2af2b6d8"
      },
      "source": [
        "### Question 9: Generate 1000 random numbers from a normal distribution (mean=50, sd=5). Compute mean and standard deviation using NumPy, and draw a histogram."
      ]
    },
    {
      "cell_type": "code",
      "execution_count": 1,
      "id": "33b90b75",
      "metadata": {
        "colab": {
          "base_uri": "https://localhost:8080/",
          "height": 556
        },
        "id": "33b90b75",
        "outputId": "0850a3bc-8fca-48f4-fc57-e3baeaa7adf5"
      },
      "outputs": [
        {
          "output_type": "stream",
          "name": "stdout",
          "text": [
            "Generated 1000 samples.\n",
            "Sample mean: 50.0967\n",
            "Population std (ddof=0): 4.8936\n",
            "Sample std (ddof=1): 4.8961\n"
          ]
        },
        {
          "output_type": "display_data",
          "data": {
            "text/plain": [
              "<Figure size 800x500 with 1 Axes>"
            ],
            "image/png": "[encoded data removed]"
          },
          "metadata": {}
        }
      ],
      "source": [
        "# Question 9: generate 1000 normal random numbers, compute mean/std, and plot histogram\n",
        "import numpy as np\n",
        "import matplotlib.pyplot as plt\n",
        "\n",
        "np.random.seed(42)  # for reproducibility\n",
        "samples = np.random.normal(loc=50, scale=5, size=1000)\n",
        "\n",
        "mean_sample = samples.mean()\n",
        "std_sample = samples.std(ddof=0)   # population std (ddof=0)\n",
        "std_sample_sample = samples.std(ddof=1)  # sample std (ddof=1)\n",
        "\n",
        "print(f\"Generated {len(samples)} samples.\")\n",
        "print(f\"Sample mean: {mean_sample:.4f}\")\n",
        "print(f\"Population std (ddof=0): {std_sample:.4f}\")\n",
        "print(f\"Sample std (ddof=1): {std_sample_sample:.4f}\")\n",
        "\n",
        "# Plot histogram\n",
        "plt.figure(figsize=(8,5))\n",
        "plt.hist(samples, bins=30, edgecolor='k', alpha=0.7)\n",
        "plt.title('Histogram of 1000 samples from N(50, 5^2)')\n",
        "plt.xlabel('Value'); plt.ylabel('Frequency')\n",
        "plt.grid(axis='y', alpha=0.3)\n",
        "plt.show()"
      ]
    },
    {
      "cell_type": "markdown",
      "id": "75d2bf2f",
      "metadata": {
        "id": "75d2bf2f"
      },
      "source": [
        "### Question 10: Using the daily_sales data, explain how to apply the CLT to estimate average sales with a 95% confidence interval, and compute mean and CI in Python."
      ]
    },
    {
      "cell_type": "markdown",
      "id": "ccbad446",
      "metadata": {
        "id": "ccbad446"
      },
      "source": [
        "\n",
        "We have a sample of daily sales values. The Central Limit Theorem (CLT) tells us that the sampling distribution of the sample mean will be approximately normal if the sample size is reasonably large or if the underlying distribution is not extremely non-normal. In practice, for small samples (like n=20), we typically rely on the t-distribution to account for extra uncertainty when the population standard deviation is unknown.\n",
        "\n",
        "To estimate the population mean sales and a 95% confidence interval:\n",
        "1. Compute the sample mean \\(\\bar{x}\\) and the sample standard deviation \\(s\\) (with Bessel's correction, i.e., ddof=1).\n",
        "2. Determine the appropriate critical value. For small samples and unknown population sd, use the t-distribution critical value \\(t_{\\alpha/2,\\,n-1}\\); for large samples, the normal critical value (\\(z_{\\alpha/2}\\)) can be used. For 95% CI, \\(\\alpha=0.05\\) so \\(\\alpha/2=0.025\\).\n",
        "3. The 95% CI is then:\n",
        "   \\[ \\bar{x} \\pm t_{0.025,\\,n-1} \\cdot \\frac{s}{\\sqrt{n}}. \\]\n",
        "\n",
        "This interval reflects uncertainty due to sampling variability. If there is reason to believe the sales data are independent and identically distributed, and there are no severe outliers, this CI is appropriate.\n",
        "\n",
        "We'll compute the mean and the 95% CI using Python. For the t-critical value we use `scipy.stats.t.ppf`. If `scipy` is not available, one can approximate using the normal critical value 1.96, but t is preferred for n=20.\n"
      ]
    },
    {
      "cell_type": "code",
      "execution_count": 2,
      "id": "e12e264d",
      "metadata": {
        "colab": {
          "base_uri": "https://localhost:8080/"
        },
        "id": "e12e264d",
        "outputId": "433ff63d-526d-4652-d991-297a274bde6e"
      },
      "outputs": [
        {
          "output_type": "stream",
          "name": "stdout",
          "text": [
            "n = 20\n",
            "Sample mean = 248.2500\n",
            "Sample std (s) = 17.2653\n",
            "t-critical (two-tailed, df=19) = 2.0930\n",
            "95% CI = (240.1696, 256.3304)\n"
          ]
        }
      ],
      "source": [
        "# Question 10: compute sample mean and 95% CI for the provided daily_sales\n",
        "import numpy as np\n",
        "from math import sqrt\n",
        "from scipy import stats\n",
        "\n",
        "daily_sales = [220, 245, 210, 265, 230, 250, 260, 275, 240, 255,\n",
        "               235, 260, 245, 250, 225, 270, 265, 255, 250, 260]\n",
        "\n",
        "arr = np.array(daily_sales)\n",
        "n = arr.size\n",
        "mean = arr.mean()\n",
        "s = arr.std(ddof=1)  # sample standard deviation\n",
        "alpha = 0.05\n",
        "df = n - 1\n",
        "t_crit = stats.t.ppf(1 - alpha/2, df)\n",
        "\n",
        "margin_error = t_crit * s / sqrt(n)\n",
        "ci_lower = mean - margin_error\n",
        "ci_upper = mean + margin_error\n",
        "\n",
        "print(f\"n = {n}\")\n",
        "print(f\"Sample mean = {mean:.4f}\")\n",
        "print(f\"Sample std (s) = {s:.4f}\")\n",
        "print(f\"t-critical (two-tailed, df={df}) = {t_crit:.4f}\")\n",
        "print(f\"95% CI = ({ci_lower:.4f}, {ci_upper:.4f})\")\n"
      ]
    }
  ],
  "metadata": {
    "colab": {
      "provenance": []
    },
    "language_info": {
      "name": "python"
    },
    "kernelspec": {
      "name": "python3",
      "display_name": "Python 3"
    }
  },
  "nbformat": 4,
  "nbformat_minor": 5
}