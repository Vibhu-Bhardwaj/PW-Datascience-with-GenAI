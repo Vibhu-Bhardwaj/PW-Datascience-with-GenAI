{
  "cells": [
    {
      "cell_type": "markdown",
      "id": "2d0ac3f4",
      "metadata": {
        "id": "2d0ac3f4"
      },
      "source": [
        "# **Data Types and Structures Assignment**"
      ]
    },
    {
      "cell_type": "markdown",
      "id": "d0196bec",
      "metadata": {
        "id": "d0196bec"
      },
      "source": [
        "###1. What are data structures, and why are they important\n",
        "Data structures are specialized formats for organizing, processing, retrieving, and storing data. They help manage and organize data efficiently for various operations such as insertion, deletion, searching, and sorting. Efficient data structures are crucial for designing efficient algorithms and ensuring optimal performance in software applications."
      ]
    },
    {
      "cell_type": "markdown",
      "id": "a713f19e",
      "metadata": {
        "id": "a713f19e"
      },
      "source": [
        "###2. Explain the difference between mutable and immutable data types with examples\n",
        "Mutable data types can be changed after they are created, while immutable data types cannot be changed once defined.\n",
        "\n",
        "**Examples:**\n",
        "- Mutable: `list`, `dict`, `set`\n",
        "```python\n",
        "my_list = [1, 2, 3]\n",
        "my_list.append(4)  # Now [1, 2, 3, 4]\n",
        "```\n",
        "- Immutable: `int`, `float`, `str`, `tuple`\n",
        "```python\n",
        "my_str = \"hello\"\n",
        "# my_str[0] = 'H'  # This will raise an error\n",
        "```"
      ]
    },
    {
      "cell_type": "markdown",
      "id": "ab1a4582",
      "metadata": {
        "id": "ab1a4582"
      },
      "source": [
        "###3. What are the main differences between lists and tuples in Python\n",
        "- Lists are mutable; tuples are immutable.\n",
        "- Lists use square brackets `[]`, while tuples use parentheses `()`.\n",
        "- Lists are generally slower than tuples due to their mutability.\n",
        "- Tuples are hashable (can be used as dictionary keys), lists are not."
      ]
    },
    {
      "cell_type": "markdown",
      "id": "419598a1",
      "metadata": {
        "id": "419598a1"
      },
      "source": [
        "###4. Describe how dictionaries store data\n",
        "Dictionaries store data in key-value pairs. Internally, they use a hash table mechanism where keys are hashed and the corresponding values are stored at that hashed location. This enables fast lookups, insertions, and deletions."
      ]
    },
    {
      "cell_type": "markdown",
      "id": "bc348a7b",
      "metadata": {
        "id": "bc348a7b"
      },
      "source": [
        "###5. Why might you use a set instead of a list in Python\n",
        "Sets are used when we need to store unique elements and perform operations like union, intersection, and difference efficiently. Unlike lists, sets automatically remove duplicates and are optimized for membership tests."
      ]
    },
    {
      "cell_type": "markdown",
      "id": "98d513fc",
      "metadata": {
        "id": "98d513fc"
      },
      "source": [
        "###6. What is a string in Python, and how is it different from a list\n",
        "A string is a sequence of characters enclosed in quotes. It is immutable, meaning its contents cannot be altered after creation. A list, on the other hand, can hold elements of any data type and is mutable.\n",
        "\n",
        "```python\n",
        "my_str = 'hello'\n",
        "my_list = ['h', 'e', 'l', 'l', 'o']\n",
        "```"
      ]
    },
    {
      "cell_type": "markdown",
      "id": "dbab1998",
      "metadata": {
        "id": "dbab1998"
      },
      "source": [
        "###7. How do tuples ensure data integrity in Python\n",
        "Tuples are immutable, which means once created, their contents cannot be changed. This characteristic helps in maintaining data integrity, especially in scenarios where a constant set of values is needed throughout the program."
      ]
    },
    {
      "cell_type": "markdown",
      "id": "356d3fc9",
      "metadata": {
        "id": "356d3fc9"
      },
      "source": [
        "###8. What is a hash table, and how does it relate to dictionaries in Python\n",
        "A hash table is a data structure that maps keys to values using a hash function. Python's dictionaries are built on hash tables. They provide fast access to elements based on keys by hashing them and storing in memory accordingly."
      ]
    },
    {
      "cell_type": "markdown",
      "id": "b88a5712",
      "metadata": {
        "id": "b88a5712"
      },
      "source": [
        "###9. Can lists contain different data types in Python\n",
        "Yes, lists in Python can contain elements of different data types. Example:\n",
        "```python\n",
        "my_list = [1, 'hello', 3.14, True]\n",
        "```"
      ]
    },
    {
      "cell_type": "markdown",
      "id": "4c5d899e",
      "metadata": {
        "id": "4c5d899e"
      },
      "source": [
        "###10. Explain why strings are immutable in Python\n",
        "Strings are immutable for performance and security reasons. Immutability allows string instances to be cached and reused, making memory management more efficient. It also ensures that once a string is created, it cannot be altered by accident or maliciously."
      ]
    },
    {
      "cell_type": "markdown",
      "id": "3ae8d94d",
      "metadata": {
        "id": "3ae8d94d"
      },
      "source": [
        "###11. What advantages do dictionaries offer over lists for certain tasks\n",
        "Dictionaries provide fast access to values via keys (average-case O(1) time complexity). They're ideal when you need to associate values with unique identifiers (keys), whereas lists require linear search (O(n)) for element lookups."
      ]
    },
    {
      "cell_type": "markdown",
      "id": "171df655",
      "metadata": {
        "id": "171df655"
      },
      "source": [
        "###12. Describe a scenario where using a tuple would be preferable over a list\n",
        "Tuples are preferable when you want to ensure the data cannot be changed, such as storing geographical coordinates (`latitude`, `longitude`) or dates. They can also be used as keys in dictionaries due to their immutability."
      ]
    },
    {
      "cell_type": "markdown",
      "id": "aa2f715a",
      "metadata": {
        "id": "aa2f715a"
      },
      "source": [
        "###13. How do sets handle duplicate values in Python\n",
        "Sets automatically discard duplicate elements. For example:\n",
        "```python\n",
        "my_set = {1, 2, 2, 3}\n",
        "print(my_set)  # Output: {1, 2, 3}\n",
        "```"
      ]
    },
    {
      "cell_type": "markdown",
      "id": "cc12ee0a",
      "metadata": {
        "id": "cc12ee0a"
      },
      "source": [
        "###14. How does the “in” keyword work differently for lists and dictionaries\n",
        "For lists, `in` checks whether a value exists among the list elements.\n",
        "For dictionaries, `in` checks for the presence of a key (not value).\n",
        "\n",
        "```python\n",
        "'a' in ['a', 'b']  # True\n",
        "'name' in {'name': 'John'}  # True\n",
        "```"
      ]
    },
    {
      "cell_type": "markdown",
      "id": "ac05a456",
      "metadata": {
        "id": "ac05a456"
      },
      "source": [
        "###15. Can you modify the elements of a tuple? Explain why or why not\n",
        "No, you cannot modify tuple elements because tuples are immutable. Once created, their content cannot be changed, ensuring data safety and consistency."
      ]
    },
    {
      "cell_type": "markdown",
      "id": "6c819532",
      "metadata": {
        "id": "6c819532"
      },
      "source": [
        "###16. What is a nested dictionary, and give an example of its use case\n",
        "A nested dictionary is a dictionary where values themselves are dictionaries. Useful for representing hierarchical data.\n",
        "```python\n",
        "data = {\n",
        "  'person1': {'name': 'Alice', 'age': 30},\n",
        "  'person2': {'name': 'Bob', 'age': 25}\n",
        "}\n",
        "```"
      ]
    },
    {
      "cell_type": "markdown",
      "id": "bf4fef50",
      "metadata": {
        "id": "bf4fef50"
      },
      "source": [
        "###17. Describe the time complexity of accessing elements in a dictionary\n",
        "Accessing an element by key in a dictionary has an average-case time complexity of O(1), due to the underlying hash table implementation."
      ]
    },
    {
      "cell_type": "markdown",
      "id": "c3702e6b",
      "metadata": {
        "id": "c3702e6b"
      },
      "source": [
        "###18. In what situations are lists preferred over dictionaries\n",
        "Lists are preferred when:\n",
        "- The order of elements matters.\n",
        "- You need to iterate over a sequence.\n",
        "- You’re storing simple sequences without needing key-value pairs."
      ]
    },
    {
      "cell_type": "markdown",
      "id": "b3726f5a",
      "metadata": {
        "id": "b3726f5a"
      },
      "source": [
        "###19. Why are dictionaries considered unordered, and how does that affect data retrieval\n",
        "Before Python 3.7, dictionaries did not maintain insertion order. From Python 3.7 onward, dictionaries preserve order, but conceptually they are designed for fast access rather than sequential ordering."
      ]
    },
    {
      "cell_type": "markdown",
      "id": "023fdbff",
      "metadata": {
        "id": "023fdbff"
      },
      "source": [
        "###20. Explain the difference between a list and a dictionary in terms of data retrieval.\n",
        "Lists retrieve data using integer indices and require sequential search (O(n)) for unknown values.\n",
        "Dictionaries use keys and hash-based retrieval, offering faster access (O(1) average case)."
      ]
    },
    {
      "cell_type": "markdown",
      "source": [
        "## **Practical Questions**"
      ],
      "metadata": {
        "id": "MH5QJHoSRPDL"
      },
      "id": "MH5QJHoSRPDL"
    },
    {
      "cell_type": "markdown",
      "id": "960c8044",
      "metadata": {
        "id": "960c8044"
      },
      "source": [
        "###1. Write a code to create a string with your name and print it"
      ]
    },
    {
      "cell_type": "code",
      "execution_count": 2,
      "id": "74cff991",
      "metadata": {
        "colab": {
          "base_uri": "https://localhost:8080/"
        },
        "id": "74cff991",
        "outputId": "c2e72280-bf57-4019-c7f5-8c13ddb75a40"
      },
      "outputs": [
        {
          "output_type": "stream",
          "name": "stdout",
          "text": [
            "Vibhu Bhardwaj\n"
          ]
        }
      ],
      "source": [
        "name = 'Vibhu Bhardwaj'\n",
        "print(name)"
      ]
    },
    {
      "cell_type": "markdown",
      "id": "303f051a",
      "metadata": {
        "id": "303f051a"
      },
      "source": [
        "###2. Write a code to find the length of the string \"Hello World\""
      ]
    },
    {
      "cell_type": "code",
      "execution_count": 1,
      "id": "9b4d1c8d",
      "metadata": {
        "colab": {
          "base_uri": "https://localhost:8080/"
        },
        "id": "9b4d1c8d",
        "outputId": "322cbd08-e775-4f05-f704-89a1fd082d04"
      },
      "outputs": [
        {
          "output_type": "stream",
          "name": "stdout",
          "text": [
            "11\n"
          ]
        }
      ],
      "source": [
        "s = 'Hello World'\n",
        "print(len(s))"
      ]
    },
    {
      "cell_type": "markdown",
      "id": "26c52b13",
      "metadata": {
        "id": "26c52b13"
      },
      "source": [
        "###3. Write a code to slice the first 3 characters from the string \"Python Programming\""
      ]
    },
    {
      "cell_type": "code",
      "execution_count": 3,
      "id": "0e8041d0",
      "metadata": {
        "colab": {
          "base_uri": "https://localhost:8080/"
        },
        "id": "0e8041d0",
        "outputId": "d6b9d954-f07c-4180-8cfd-754da0e61e2b"
      },
      "outputs": [
        {
          "output_type": "stream",
          "name": "stdout",
          "text": [
            "Pyt\n"
          ]
        }
      ],
      "source": [
        "s = 'Python Programming'\n",
        "print(s[:3])"
      ]
    },
    {
      "cell_type": "markdown",
      "id": "3b59b60c",
      "metadata": {
        "id": "3b59b60c"
      },
      "source": [
        "###4. Write a code to convert the string \"hello\" to uppercase"
      ]
    },
    {
      "cell_type": "code",
      "execution_count": 4,
      "id": "1030f570",
      "metadata": {
        "colab": {
          "base_uri": "https://localhost:8080/"
        },
        "id": "1030f570",
        "outputId": "4248ff10-3e63-42c7-897f-7c328d47659f"
      },
      "outputs": [
        {
          "output_type": "stream",
          "name": "stdout",
          "text": [
            "HELLO\n"
          ]
        }
      ],
      "source": [
        "s = 'hello'\n",
        "print(s.upper())"
      ]
    },
    {
      "cell_type": "markdown",
      "id": "3451ba09",
      "metadata": {
        "id": "3451ba09"
      },
      "source": [
        "###5. Write a code to replace the word \"apple\" with \"orange\" in the string \"I like apple\""
      ]
    },
    {
      "cell_type": "code",
      "execution_count": 5,
      "id": "4287affd",
      "metadata": {
        "colab": {
          "base_uri": "https://localhost:8080/"
        },
        "id": "4287affd",
        "outputId": "dc5f1dae-c79e-458a-c141-f2a0f5511493"
      },
      "outputs": [
        {
          "output_type": "stream",
          "name": "stdout",
          "text": [
            "I like orange\n"
          ]
        }
      ],
      "source": [
        "s = 'I like apple'\n",
        "print(s.replace('apple', 'orange'))"
      ]
    },
    {
      "cell_type": "markdown",
      "id": "9e213840",
      "metadata": {
        "id": "9e213840"
      },
      "source": [
        "###6. Write a code to create a list with numbers 1 to 5 and print it"
      ]
    },
    {
      "cell_type": "code",
      "execution_count": 6,
      "id": "04bcb63c",
      "metadata": {
        "colab": {
          "base_uri": "https://localhost:8080/"
        },
        "id": "04bcb63c",
        "outputId": "f7b7bfd8-f2f5-4cd9-b114-7436dd7c72da"
      },
      "outputs": [
        {
          "output_type": "stream",
          "name": "stdout",
          "text": [
            "[1, 2, 3, 4, 5]\n"
          ]
        }
      ],
      "source": [
        "lst = [1, 2, 3, 4, 5]\n",
        "print(lst)"
      ]
    },
    {
      "cell_type": "markdown",
      "id": "7b3c9ab4",
      "metadata": {
        "id": "7b3c9ab4"
      },
      "source": [
        "###7. Write a code to append the number 10 to the list [1, 2, 3, 4]"
      ]
    },
    {
      "cell_type": "code",
      "execution_count": 7,
      "id": "5791e1ed",
      "metadata": {
        "colab": {
          "base_uri": "https://localhost:8080/"
        },
        "id": "5791e1ed",
        "outputId": "e88c7eb8-3e23-429a-8020-62091eb63dc0"
      },
      "outputs": [
        {
          "output_type": "stream",
          "name": "stdout",
          "text": [
            "[1, 2, 3, 4, 10]\n"
          ]
        }
      ],
      "source": [
        "lst = [1, 2, 3, 4]\n",
        "lst.append(10)\n",
        "print(lst)"
      ]
    },
    {
      "cell_type": "markdown",
      "id": "710b63d4",
      "metadata": {
        "id": "710b63d4"
      },
      "source": [
        "###8. Write a code to remove the number 3 from the list [1, 2, 3, 4, 5]"
      ]
    },
    {
      "cell_type": "code",
      "execution_count": 8,
      "id": "4fbb0a33",
      "metadata": {
        "colab": {
          "base_uri": "https://localhost:8080/"
        },
        "id": "4fbb0a33",
        "outputId": "3a2cbc7d-3f7a-4c85-a79f-531895d55342"
      },
      "outputs": [
        {
          "output_type": "stream",
          "name": "stdout",
          "text": [
            "[1, 2, 4, 5]\n"
          ]
        }
      ],
      "source": [
        "lst = [1, 2, 3, 4, 5]\n",
        "lst.remove(3)\n",
        "print(lst)"
      ]
    },
    {
      "cell_type": "markdown",
      "id": "8a062bd9",
      "metadata": {
        "id": "8a062bd9"
      },
      "source": [
        "###9. Write a code to access the second element in the list ['a', 'b', 'c', 'd']"
      ]
    },
    {
      "cell_type": "code",
      "execution_count": 9,
      "id": "6d262ca5",
      "metadata": {
        "colab": {
          "base_uri": "https://localhost:8080/"
        },
        "id": "6d262ca5",
        "outputId": "a78f2719-1237-4549-8c10-0c356c6f9f34"
      },
      "outputs": [
        {
          "output_type": "stream",
          "name": "stdout",
          "text": [
            "b\n"
          ]
        }
      ],
      "source": [
        "lst = ['a', 'b', 'c', 'd']\n",
        "print(lst[1])"
      ]
    },
    {
      "cell_type": "markdown",
      "id": "beece7bc",
      "metadata": {
        "id": "beece7bc"
      },
      "source": [
        "###10. Write a code to reverse the list [10, 20, 30, 40, 50]"
      ]
    },
    {
      "cell_type": "code",
      "execution_count": 10,
      "id": "eb5bdf2e",
      "metadata": {
        "colab": {
          "base_uri": "https://localhost:8080/"
        },
        "id": "eb5bdf2e",
        "outputId": "c4293479-29bf-4b62-f3cf-7ea1254a99a9"
      },
      "outputs": [
        {
          "output_type": "stream",
          "name": "stdout",
          "text": [
            "[50, 40, 30, 20, 10]\n"
          ]
        }
      ],
      "source": [
        "lst = [10, 20, 30, 40, 50]\n",
        "lst.reverse()\n",
        "print(lst)"
      ]
    },
    {
      "cell_type": "markdown",
      "id": "fb99c505",
      "metadata": {
        "id": "fb99c505"
      },
      "source": [
        "###11. Write a code to create a tuple with the elements 100, 200, 300 and print it"
      ]
    },
    {
      "cell_type": "code",
      "execution_count": 11,
      "id": "17d9b03a",
      "metadata": {
        "colab": {
          "base_uri": "https://localhost:8080/"
        },
        "id": "17d9b03a",
        "outputId": "d91629d8-5bdf-4fe4-8e47-0adefefcd708"
      },
      "outputs": [
        {
          "output_type": "stream",
          "name": "stdout",
          "text": [
            "(100, 200, 300)\n"
          ]
        }
      ],
      "source": [
        "t = (100, 200, 300)\n",
        "print(t)"
      ]
    },
    {
      "cell_type": "markdown",
      "id": "5e2582b7",
      "metadata": {
        "id": "5e2582b7"
      },
      "source": [
        "###12. Write a code to access the second-to-last element of the tuple ('red', 'green', 'blue', 'yellow')"
      ]
    },
    {
      "cell_type": "code",
      "execution_count": 30,
      "id": "5fd85d60",
      "metadata": {
        "colab": {
          "base_uri": "https://localhost:8080/"
        },
        "id": "5fd85d60",
        "outputId": "a5b8a369-1e8c-468d-ff23-d4a07e3b3dd2"
      },
      "outputs": [
        {
          "output_type": "stream",
          "name": "stdout",
          "text": [
            "blue\n"
          ]
        }
      ],
      "source": [
        "colors = ('red', 'green', 'blue', 'yellow')\n",
        "print(colors[-2])"
      ]
    },
    {
      "cell_type": "markdown",
      "id": "8f8c190e",
      "metadata": {
        "id": "8f8c190e"
      },
      "source": [
        "###13. Write a code to find the minimum number in the tuple (10, 20, 5, 15)"
      ]
    },
    {
      "cell_type": "code",
      "execution_count": 29,
      "id": "b2cff2f9",
      "metadata": {
        "colab": {
          "base_uri": "https://localhost:8080/"
        },
        "id": "b2cff2f9",
        "outputId": "358d50f9-6065-4c2c-f577-b5bb019eddcb"
      },
      "outputs": [
        {
          "output_type": "stream",
          "name": "stdout",
          "text": [
            "5\n"
          ]
        }
      ],
      "source": [
        "nums = (10, 20, 5, 15)\n",
        "print(min(nums))"
      ]
    },
    {
      "cell_type": "markdown",
      "id": "6f5de33a",
      "metadata": {
        "id": "6f5de33a"
      },
      "source": [
        "###14. Write a code to find the index of the element \"cat\" in the tuple ('dog', 'cat', 'rabbit')"
      ]
    },
    {
      "cell_type": "code",
      "execution_count": 28,
      "id": "52378d84",
      "metadata": {
        "colab": {
          "base_uri": "https://localhost:8080/"
        },
        "id": "52378d84",
        "outputId": "a2f5e8e1-c952-45f8-d073-60c42fe5807d"
      },
      "outputs": [
        {
          "output_type": "stream",
          "name": "stdout",
          "text": [
            "1\n"
          ]
        }
      ],
      "source": [
        "animals = ('dog', 'cat', 'rabbit')\n",
        "print(animals.index('cat'))"
      ]
    },
    {
      "cell_type": "markdown",
      "id": "328d07c3",
      "metadata": {
        "id": "328d07c3"
      },
      "source": [
        "###15. Write a code to create a tuple containing three different fruits and check if \"kiwi\" is in it"
      ]
    },
    {
      "cell_type": "code",
      "execution_count": 27,
      "id": "2288e67f",
      "metadata": {
        "colab": {
          "base_uri": "https://localhost:8080/"
        },
        "id": "2288e67f",
        "outputId": "f33adfe4-cd9f-4bdc-f0d0-e0b58c1251a9"
      },
      "outputs": [
        {
          "output_type": "stream",
          "name": "stdout",
          "text": [
            "False\n"
          ]
        }
      ],
      "source": [
        "fruits = ('apple', 'banana', 'mango')\n",
        "print('kiwi' in fruits)"
      ]
    },
    {
      "cell_type": "markdown",
      "id": "9cc87e17",
      "metadata": {
        "id": "9cc87e17"
      },
      "source": [
        "###16. Write a code to create a set with the elements 'a', 'b', 'c' and print it"
      ]
    },
    {
      "cell_type": "code",
      "execution_count": 26,
      "id": "11f6bf54",
      "metadata": {
        "colab": {
          "base_uri": "https://localhost:8080/"
        },
        "id": "11f6bf54",
        "outputId": "6855b4ff-95e2-433c-8378-132fc4646bdc"
      },
      "outputs": [
        {
          "output_type": "stream",
          "name": "stdout",
          "text": [
            "{'c', 'a', 'b'}\n"
          ]
        }
      ],
      "source": [
        "s = {'a', 'b', 'c'}\n",
        "print(s)"
      ]
    },
    {
      "cell_type": "markdown",
      "id": "7ed14f2b",
      "metadata": {
        "id": "7ed14f2b"
      },
      "source": [
        "###17. Write a code to clear all elements from the set {1, 2, 3, 4, 5}"
      ]
    },
    {
      "cell_type": "code",
      "execution_count": 21,
      "id": "60dc4060",
      "metadata": {
        "colab": {
          "base_uri": "https://localhost:8080/"
        },
        "id": "60dc4060",
        "outputId": "5405392b-15d9-4807-8a49-e7f345d1957d"
      },
      "outputs": [
        {
          "output_type": "stream",
          "name": "stdout",
          "text": [
            "set()\n"
          ]
        }
      ],
      "source": [
        "s = {1, 2, 3, 4, 5}\n",
        "s.clear()\n",
        "print(s)"
      ]
    },
    {
      "cell_type": "markdown",
      "id": "bd0272dd",
      "metadata": {
        "id": "bd0272dd"
      },
      "source": [
        "###18. Write a code to remove the element 4 from the set {1, 2, 3, 4}"
      ]
    },
    {
      "cell_type": "code",
      "execution_count": 22,
      "id": "31f358ee",
      "metadata": {
        "colab": {
          "base_uri": "https://localhost:8080/"
        },
        "id": "31f358ee",
        "outputId": "fceaa59f-b321-43b4-9149-08e84ae24f2a"
      },
      "outputs": [
        {
          "output_type": "stream",
          "name": "stdout",
          "text": [
            "{1, 2, 3}\n"
          ]
        }
      ],
      "source": [
        "s = {1, 2, 3, 4}\n",
        "s.remove(4)\n",
        "print(s)"
      ]
    },
    {
      "cell_type": "markdown",
      "id": "c6c726a6",
      "metadata": {
        "id": "c6c726a6"
      },
      "source": [
        "###19. Write a code to find the union of two sets {1, 2, 3} and {3, 4, 5}"
      ]
    },
    {
      "cell_type": "code",
      "execution_count": 23,
      "id": "176ec0ed",
      "metadata": {
        "colab": {
          "base_uri": "https://localhost:8080/"
        },
        "id": "176ec0ed",
        "outputId": "1254c1c6-a0b5-49d7-b3f4-11b1389d8b71"
      },
      "outputs": [
        {
          "output_type": "stream",
          "name": "stdout",
          "text": [
            "{1, 2, 3, 4, 5}\n"
          ]
        }
      ],
      "source": [
        "set1 = {1, 2, 3}\n",
        "set2 = {3, 4, 5}\n",
        "print(set1.union(set2))"
      ]
    },
    {
      "cell_type": "markdown",
      "id": "704e827b",
      "metadata": {
        "id": "704e827b"
      },
      "source": [
        "###20. Write a code to find the intersection of two sets {1, 2, 3} and {2, 3, 4}"
      ]
    },
    {
      "cell_type": "code",
      "execution_count": 24,
      "id": "32f5bf13",
      "metadata": {
        "colab": {
          "base_uri": "https://localhost:8080/"
        },
        "id": "32f5bf13",
        "outputId": "587c8054-e669-4136-9562-a36ad27474fd"
      },
      "outputs": [
        {
          "output_type": "stream",
          "name": "stdout",
          "text": [
            "{2, 3}\n"
          ]
        }
      ],
      "source": [
        "set1 = {1, 2, 3}\n",
        "set2 = {2, 3, 4}\n",
        "print(set1.intersection(set2))"
      ]
    },
    {
      "cell_type": "markdown",
      "id": "149be777",
      "metadata": {
        "id": "149be777"
      },
      "source": [
        "###21. Write a code to create a dictionary with the keys \"name\", \"age\", and \"city\", and print it"
      ]
    },
    {
      "cell_type": "code",
      "execution_count": 25,
      "id": "af777793",
      "metadata": {
        "colab": {
          "base_uri": "https://localhost:8080/"
        },
        "id": "af777793",
        "outputId": "97c68d8b-5680-4d6b-821f-ae846018b574"
      },
      "outputs": [
        {
          "output_type": "stream",
          "name": "stdout",
          "text": [
            "{'name': 'Alice', 'age': 30, 'city': 'New York'}\n"
          ]
        }
      ],
      "source": [
        "person = {'name': 'Alice', 'age': 30, 'city': 'New York'}\n",
        "print(person)"
      ]
    },
    {
      "cell_type": "markdown",
      "id": "72a85946",
      "metadata": {
        "id": "72a85946"
      },
      "source": [
        "###22. Write a code to add a new key-value pair \"country\": \"USA\" to the dictionary {'name': 'John', 'age': 25}"
      ]
    },
    {
      "cell_type": "code",
      "execution_count": 20,
      "id": "680af9bd",
      "metadata": {
        "colab": {
          "base_uri": "https://localhost:8080/"
        },
        "id": "680af9bd",
        "outputId": "eb02799d-6e96-48c1-a44f-a58f9dc9c837"
      },
      "outputs": [
        {
          "output_type": "stream",
          "name": "stdout",
          "text": [
            "{'name': 'John', 'age': 25, 'country': 'USA'}\n"
          ]
        }
      ],
      "source": [
        "person = {'name': 'John', 'age': 25}\n",
        "person['country'] = 'USA'\n",
        "print(person)"
      ]
    },
    {
      "cell_type": "markdown",
      "id": "f8afb7e3",
      "metadata": {
        "id": "f8afb7e3"
      },
      "source": [
        "###23. Write a code to access the value associated with the key \"name\" in the dictionary {'name': 'Alice', 'age': 30}"
      ]
    },
    {
      "cell_type": "code",
      "execution_count": 19,
      "id": "95828507",
      "metadata": {
        "colab": {
          "base_uri": "https://localhost:8080/"
        },
        "id": "95828507",
        "outputId": "7ed01aa2-ad96-4945-9537-9142f98bb206"
      },
      "outputs": [
        {
          "output_type": "stream",
          "name": "stdout",
          "text": [
            "Alice\n"
          ]
        }
      ],
      "source": [
        "person = {'name': 'Alice', 'age': 30}\n",
        "print(person['name'])"
      ]
    },
    {
      "cell_type": "markdown",
      "id": "ca75f20f",
      "metadata": {
        "id": "ca75f20f"
      },
      "source": [
        "###24. Write a code to remove the key \"age\" from the dictionary {'name': 'Bob', 'age': 22, 'city': 'New York'}"
      ]
    },
    {
      "cell_type": "code",
      "execution_count": 18,
      "id": "c09ac319",
      "metadata": {
        "colab": {
          "base_uri": "https://localhost:8080/"
        },
        "id": "c09ac319",
        "outputId": "515b8c0f-8ad1-40b0-a2fd-ee94ee3896b3"
      },
      "outputs": [
        {
          "output_type": "stream",
          "name": "stdout",
          "text": [
            "{'name': 'Bob', 'city': 'New York'}\n"
          ]
        }
      ],
      "source": [
        "person = {'name': 'Bob', 'age': 22, 'city': 'New York'}\n",
        "del person['age']\n",
        "print(person)"
      ]
    },
    {
      "cell_type": "markdown",
      "id": "fec1150e",
      "metadata": {
        "id": "fec1150e"
      },
      "source": [
        "###25. Write a code to check if the key \"city\" exists in the dictionary {'name': 'Alice', 'city': 'Paris'}"
      ]
    },
    {
      "cell_type": "code",
      "execution_count": 17,
      "id": "591468cc",
      "metadata": {
        "colab": {
          "base_uri": "https://localhost:8080/"
        },
        "id": "591468cc",
        "outputId": "31bc55e5-f68c-44f4-a72b-c85f7209679d"
      },
      "outputs": [
        {
          "output_type": "stream",
          "name": "stdout",
          "text": [
            "True\n"
          ]
        }
      ],
      "source": [
        "person = {'name': 'Alice', 'city': 'Paris'}\n",
        "print('city' in person)"
      ]
    },
    {
      "cell_type": "markdown",
      "id": "aae418d2",
      "metadata": {
        "id": "aae418d2"
      },
      "source": [
        "###26. Write a code to create a list, a tuple, and a dictionary, and print them all"
      ]
    },
    {
      "cell_type": "code",
      "execution_count": 16,
      "id": "9d6bef57",
      "metadata": {
        "colab": {
          "base_uri": "https://localhost:8080/"
        },
        "id": "9d6bef57",
        "outputId": "4abb7339-86e2-427d-c4ca-39509e11df7e"
      },
      "outputs": [
        {
          "output_type": "stream",
          "name": "stdout",
          "text": [
            "[1, 2, 3]\n",
            "(4, 5, 6)\n",
            "{'a': 1, 'b': 2}\n"
          ]
        }
      ],
      "source": [
        "lst = [1, 2, 3]\n",
        "tpl = (4, 5, 6)\n",
        "dct = {'a': 1, 'b': 2}\n",
        "print(lst)\n",
        "print(tpl)\n",
        "print(dct)"
      ]
    },
    {
      "cell_type": "markdown",
      "id": "20434684",
      "metadata": {
        "id": "20434684"
      },
      "source": [
        "###27. Write a code to create a list of 5 random numbers between 1 and 100, sort it in ascending order, and print the result"
      ]
    },
    {
      "cell_type": "code",
      "execution_count": 15,
      "id": "8aa8ca48",
      "metadata": {
        "colab": {
          "base_uri": "https://localhost:8080/"
        },
        "id": "8aa8ca48",
        "outputId": "557c8d78-fbc9-469e-c57e-1aa02d4ca795"
      },
      "outputs": [
        {
          "output_type": "stream",
          "name": "stdout",
          "text": [
            "[12, 31, 59, 78, 80]\n"
          ]
        }
      ],
      "source": [
        "import random\n",
        "lst = random.sample(range(1, 101), 5)\n",
        "lst.sort()\n",
        "print(lst)"
      ]
    },
    {
      "cell_type": "markdown",
      "id": "b932635d",
      "metadata": {
        "id": "b932635d"
      },
      "source": [
        "###28. Write a code to create a list with strings and print the element at the third index"
      ]
    },
    {
      "cell_type": "code",
      "execution_count": 14,
      "id": "a48112f5",
      "metadata": {
        "colab": {
          "base_uri": "https://localhost:8080/"
        },
        "id": "a48112f5",
        "outputId": "54932e79-0615-4983-be0c-6edf1b79bac8"
      },
      "outputs": [
        {
          "output_type": "stream",
          "name": "stdout",
          "text": [
            "date\n"
          ]
        }
      ],
      "source": [
        "lst = ['apple', 'banana', 'cherry', 'date', 'elderberry']\n",
        "print(lst[3])"
      ]
    },
    {
      "cell_type": "markdown",
      "id": "ce4b28a1",
      "metadata": {
        "id": "ce4b28a1"
      },
      "source": [
        "###29. Write a code to combine two dictionaries into one and print the result"
      ]
    },
    {
      "cell_type": "code",
      "execution_count": 13,
      "id": "9e378f87",
      "metadata": {
        "colab": {
          "base_uri": "https://localhost:8080/"
        },
        "id": "9e378f87",
        "outputId": "a8a22485-b599-4443-938a-d2817d40a1b9"
      },
      "outputs": [
        {
          "output_type": "stream",
          "name": "stdout",
          "text": [
            "{'a': 1, 'b': 2, 'c': 3, 'd': 4}\n"
          ]
        }
      ],
      "source": [
        "dict1 = {'a': 1, 'b': 2}\n",
        "dict2 = {'c': 3, 'd': 4}\n",
        "combined = {**dict1, **dict2}\n",
        "print(combined)"
      ]
    },
    {
      "cell_type": "markdown",
      "id": "b830f697",
      "metadata": {
        "id": "b830f697"
      },
      "source": [
        "###30. Write a code to convert a list of strings into a set"
      ]
    },
    {
      "cell_type": "code",
      "execution_count": 12,
      "id": "0e49b72c",
      "metadata": {
        "colab": {
          "base_uri": "https://localhost:8080/"
        },
        "id": "0e49b72c",
        "outputId": "566f9b94-d484-4aef-fac6-1fc2ea0a6239"
      },
      "outputs": [
        {
          "output_type": "stream",
          "name": "stdout",
          "text": [
            "{'apple', 'cherry', 'banana'}\n"
          ]
        }
      ],
      "source": [
        "lst = ['apple', 'banana', 'apple', 'cherry']\n",
        "unique_set = set(lst)\n",
        "print(unique_set)"
      ]
    }
  ],
  "metadata": {
    "colab": {
      "provenance": []
    },
    "language_info": {
      "name": "python"
    },
    "kernelspec": {
      "name": "python3",
      "display_name": "Python 3"
    }
  },
  "nbformat": 4,
  "nbformat_minor": 5
}