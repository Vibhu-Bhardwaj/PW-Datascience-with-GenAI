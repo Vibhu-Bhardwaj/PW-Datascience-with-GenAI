{
  "cells": [
    {
      "cell_type": "markdown",
      "id": "d6036f21",
      "metadata": {
        "id": "d6036f21"
      },
      "source": [
        "# **Data Toolkit Assignment**"
      ]
    },
    {
      "cell_type": "markdown",
      "id": "84b116d4",
      "metadata": {
        "id": "84b116d4"
      },
      "source": [
        "###1. What is NumPy, and why is it widely used in Python\n",
        "NumPy (Numerical Python) is a foundational library for numerical computing in Python. It provides the `ndarray` — a fast, memory-efficient, homogeneous n-dimensional array — plus a large collection of mathematical functions to operate on these arrays. NumPy is widely used because:\n",
        "- Performance: `ndarray` operations are implemented in C and use contiguous memory which makes vectorized operations much faster than equivalent Python loops.\n",
        "- Memory efficiency: NumPy arrays use less memory than Python lists for large numeric datasets.\n",
        "- Rich functionality: Linear algebra, Fourier transforms, random number generation, and optimized mathematical routines are all available.\n",
        "- Ecosystem: Many scientific and data libraries (Pandas, SciPy, scikit-learn, TensorFlow) are built on top of NumPy, making it the lingua franca for numerical data in Python.\n",
        "\n",
        "**Example:** creating arrays and performing vectorized arithmetic:\n",
        "```python\n",
        "import numpy as np\n",
        "a = np.array([1,2,3])\n",
        "b = np.array([4,5,6])\n",
        "print(a + b)       # [5 7 9]\n",
        "print(a * 2)       # [2 4 6]\n",
        "```"
      ]
    },
    {
      "cell_type": "markdown",
      "id": "fea227a8",
      "metadata": {
        "id": "fea227a8"
      },
      "source": [
        "###2. How does broadcasting work in NumPy\n",
        "Broadcasting is a set of rules NumPy follows to perform arithmetic operations on arrays of different shapes. When two arrays have compatible shapes, NumPy 'stretches' the smaller array across the larger one so element-wise operations can be performed without making explicit copies. Compatibility rules (simplified):\n",
        "1. If arrays differ in dimensionality, prepend 1s to the smaller shape until dimensions match.\n",
        "2. For each dimension, sizes are compatible if they are equal or one of them is 1.\n",
        "3. The result shape is the maximum size along each dimension.\n",
        "\n",
        "Broadcasting allows concise code and efficient memory usage. Example: adding a 1D offset to each row of a 2D matrix:\n",
        "```python\n",
        "import numpy as np\n",
        "M = np.ones((3,4))\n",
        "v = np.array([1,2,3,4])   # shape (4,)\n",
        "print(M + v)              # v broadcast across each row\n",
        "```"
      ]
    },
    {
      "cell_type": "markdown",
      "id": "44b2105b",
      "metadata": {
        "id": "44b2105b"
      },
      "source": [
        "###3. What is a Pandas DataFrame\n",
        "A Pandas `DataFrame` is a two-dimensional, tabular data structure with labeled axes (rows and columns). It can hold heterogeneous data types (numbers, strings, dates) and provides powerful functionality for data manipulation: indexing, selection, grouping, aggregation, joining/merging, handling missing data, and time-series operations. `DataFrame` is the primary data structure used in data analysis workflows and is built on top of NumPy arrays.\n",
        "\n",
        "**Example:** create a DataFrame from a dict:\n",
        "```python\n",
        "import pandas as pd\n",
        "df = pd.DataFrame({'name': ['A','B'], 'age': [25, 30]})\n",
        "print(df)\n",
        "```"
      ]
    },
    {
      "cell_type": "markdown",
      "id": "38d36e83",
      "metadata": {
        "id": "38d36e83"
      },
      "source": [
        "###4. Explain the use of the groupby() method in Pandas\n",
        "`groupby()` splits the data into groups based on one or more keys (columns), then allows applying aggregation, transformation, or filtration operations to each group independently — implementing the split-apply-combine strategy. Typical uses include computing group-wise summaries (mean, sum), applying custom functions, or filtering groups.\n",
        "\n",
        "**Example:** compute average salary by department:\n",
        "```python\n",
        "df.groupby('department')['salary'].mean()\n",
        "```\n",
        "\n",
        "Under the hood, `groupby()` creates group indices and uses optimized aggregation routines, minimizing Python-level loops and improving performance."
      ]
    },
    {
      "cell_type": "markdown",
      "id": "57309241",
      "metadata": {
        "id": "57309241"
      },
      "source": [
        "###5. Why is Seaborn preferred for statistical visualizations\n",
        "Seaborn is a high-level visualization library built on Matplotlib that provides a concise interface for common statistical plots and integrates tightly with Pandas DataFrames. Reasons to prefer Seaborn:\n",
        "- Pre-built statistical plots (boxplots, violin plots, pairplots, jointplots) that are tuned for data analysis.\n",
        "- Automatic handling of DataFrame semantics (column names used for labels).\n",
        "- Aesthetic defaults (themes, color palettes) that produce publication-ready plots with less configuration.\n",
        "- Built-in functionality for plotting distributions and relationships with confidence intervals.\n",
        "\n",
        "**Example:** distribution plot:\n",
        "```python\n",
        "import seaborn as sns\n",
        "sns.histplot(df['age'], kde=True)\n",
        "```"
      ]
    },
    {
      "cell_type": "markdown",
      "id": "e2202a1e",
      "metadata": {
        "id": "e2202a1e"
      },
      "source": [
        "###6. What are the differences between NumPy arrays and Python lists\n",
        "Key differences:\n",
        "- Homogeneity: NumPy arrays are homogeneous (single dtype) which enables low-level optimizations. Python lists can contain mixed types.\n",
        "- Performance: Numeric operations on NumPy arrays are vectorized and executed in optimized C code, making them much faster for large arrays than Python lists and loops.\n",
        "- Memory layout: NumPy arrays use contiguous blocks of memory; lists store pointers to Python objects, adding overhead.\n",
        "- Built-in math: NumPy provides mathematical, linear algebra, and broadcasting operations; lists require explicit loops or comprehensions.\n",
        "\n",
        "**Example:** summing elements:\n",
        "```python\n",
        "import numpy as np\n",
        "a = np.arange(1_000_000)\n",
        "# much faster than using sum() over a Python list of same size\n",
        "```"
      ]
    },
    {
      "cell_type": "markdown",
      "id": "bd333bb6",
      "metadata": {
        "id": "bd333bb6"
      },
      "source": [
        "###7. What is a heatmap, and when should it be used\n",
        "A heatmap is a 2D graphical representation of data where values are represented by color scales. Heatmaps are ideal to visualize a matrix of values (correlation matrices, confusion matrices, pivot tables) to quickly spot patterns, clusters, or outliers. Use heatmaps when you need to inspect pairwise relationships, large tabular structures, or spatial temporally varying data.\n",
        "\n",
        "**Example:** correlation heatmap with Seaborn:\n",
        "```python\n",
        "import seaborn as sns\n",
        "sns.heatmap(df.corr(), annot=True)\n",
        "```"
      ]
    },
    {
      "cell_type": "markdown",
      "id": "af098a10",
      "metadata": {
        "id": "af098a10"
      },
      "source": [
        "###8. What does the term “vectorized operation” mean in NumPy\n",
        "A vectorized operation performs element-wise computations on entire arrays without explicit Python loops. The operations are executed in compiled code, leading to significant speed-ups. Vectorization leads to clearer, shorter code and better performance.\n",
        "\n",
        "**Example:** compute square of each element:\n",
        "```python\n",
        "import numpy as np\n",
        "x = np.arange(10)\n",
        "y = x**2   # vectorized; no Python loop\n",
        "```"
      ]
    },
    {
      "cell_type": "markdown",
      "id": "34edf481",
      "metadata": {
        "id": "34edf481"
      },
      "source": [
        "###9. How does Matplotlib differ from Plotly\n",
        "Matplotlib is a mature, low-level plotting library for Python that produces static figures (though interactive backends exist). Plotly is a high-level library for interactive, browser-based visualizations (built on JavaScript). Differences:\n",
        "- Interactivity: Plotly charts are interactive by default (zoom, hover), Matplotlib is mainly static (though interactive widgets exist).\n",
        "- Output: Plotly produces HTML/JS artifacts viewable in browsers; Matplotlib produces PNG/SVG and can be embedded in notebooks.\n",
        "- Ease of use: Matplotlib gives granular control; Plotly provides high-level interactive visuals with built-in interactivity.\n",
        "- Use cases: Matplotlib for publication-quality static plots; Plotly for dashboards and exploratory interactive plots.\n"
      ]
    },
    {
      "cell_type": "markdown",
      "id": "4cda49a2",
      "metadata": {
        "id": "4cda49a2"
      },
      "source": [
        "###10. What is the significance of hierarchical indexing in Pandas\n",
        "Hierarchical (MultiIndex) indexing allows multiple levels of row or column labels in a DataFrame or Series. It is useful for representing higher-dimensional data in 2D structures, performing grouped pivots, and doing complex aggregations. MultiIndex enables concise reshaping operations and multi-level grouping.\n",
        "\n",
        "**Example:** index by country and year for time series:\n",
        "```python\n",
        "df.set_index(['country','year']).sort_index()\n",
        "```"
      ]
    },
    {
      "cell_type": "markdown",
      "id": "1ebd10db",
      "metadata": {
        "id": "1ebd10db"
      },
      "source": [
        "###11. What is the role of Seaborn’s pairplot() function\n",
        "`pairplot()` visualizes pairwise relationships in a dataset by creating a grid of plots: scatterplots for variable pairs and histograms/ KDE on the diagonal. It’s valuable for exploratory data analysis to reveal correlations, clusters, and distributions.\n",
        "\n",
        "**Example:** `sns.pairplot(df[['age','income','score']])`"
      ]
    },
    {
      "cell_type": "markdown",
      "id": "e7569892",
      "metadata": {
        "id": "e7569892"
      },
      "source": [
        "###12. What is the purpose of the describe() function in Pandas\n",
        "`DataFrame.describe()` provides summary statistics (count, mean, std, min, quartiles, max) for numerical columns by default. It’s a quick way to get an overview of central tendency, spread, and distribution of columns, and to spot anomalies or missing values.\n",
        "\n",
        "**Example:** `df.describe()`"
      ]
    },
    {
      "cell_type": "markdown",
      "id": "f6a0e443",
      "metadata": {
        "id": "f6a0e443"
      },
      "source": [
        "###13. Why is handling missing data important in Pandas\n",
        "Missing data can bias analyses, cause errors in algorithms, and lead to incorrect conclusions. Pandas offers tools to detect (`isna()`), remove (`dropna()`), and impute missing values (`fillna()`). Proper handling ensures robustness: for instance, imputing with medians or using model-based imputation, or carefully dropping rows/columns when appropriate.\n"
      ]
    },
    {
      "cell_type": "markdown",
      "id": "3a2aee8a",
      "metadata": {
        "id": "3a2aee8a"
      },
      "source": [
        "###14. What are the benefits of using Plotly for data visualization\n",
        "Plotly provides interactive, web-ready visualizations with rich hover info, zooming, and easy embedding in dashboards. Benefits include:\n",
        "- Interactivity for exploration\n",
        "- Built-in themes and export to HTML\n",
        "- Support for 3D and geographic plots\n",
        "- Tight integration with Dash for full web apps\n",
        "\n",
        "Plotly is great when users need to explore data interactively or publish interactive visualizations online."
      ]
    },
    {
      "cell_type": "markdown",
      "id": "148582ea",
      "metadata": {
        "id": "148582ea"
      },
      "source": [
        "###15. How does NumPy handle multidimensional arrays\n",
        "NumPy's `ndarray` supports arbitrary dimensions (1D, 2D, 3D, ...). Arrays are described by their `shape` tuple and `dtype`. NumPy uses row-major memory layout by default (C-order), and provides slicing, indexing, reshaping, and broadcasting across dimensions.\n"
      ]
    },
    {
      "cell_type": "markdown",
      "id": "b2164155",
      "metadata": {
        "id": "b2164155"
      },
      "source": [
        "###16. What is the role of Bokeh in data visualization\n",
        "Bokeh is a Python library for creating interactive visualizations for modern web browsers. It emphasizes streaming and real-time data, server-driven interactivity, and can output standalone HTML or integrate with Flask/Django. Bokeh balances ease-of-use and interactivity, often used for dashboards and exploratory tools."
      ]
    },
    {
      "cell_type": "markdown",
      "id": "b8ad1127",
      "metadata": {
        "id": "b8ad1127"
      },
      "source": [
        "###17. Explain the difference between apply() and map() in Pandas\n",
        "- `map()` is primarily a Series method that maps values of a Series according to an input correspondence (dict or function). It’s element-wise and often used for value replacement or transformation.\n",
        "- `apply()` can be used on Series or DataFrames. On a DataFrame, `apply()` can run a function across rows or columns and can return aggregated or transformed results.\n",
        "`map()` is typically faster for simple element-wise ops; `apply()` is more flexible for complex operations.\n"
      ]
    },
    {
      "cell_type": "markdown",
      "id": "3bc0b6fa",
      "metadata": {
        "id": "3bc0b6fa"
      },
      "source": [
        "###18. What are some advanced features of NumPy\n",
        "Advanced NumPy features include:\n",
        "- Memory views and `ndarray` buffering for zero-copy slices\n",
        "- Broadcasting with complex rules for shape alignment\n",
        "- Structured arrays and record arrays for heterogeneous data\n",
        "- Advanced indexing (fancy integer indexing, boolean masks)\n",
        "- Linear algebra module `numpy.linalg` and FFT module `numpy.fft`\n",
        "- Custom dtype creation and strides manipulation for performance tuning"
      ]
    },
    {
      "cell_type": "markdown",
      "id": "74876d15",
      "metadata": {
        "id": "74876d15"
      },
      "source": [
        "###19. How does Pandas simplify time series analysis\n",
        "Pandas has powerful time-series tools: `DatetimeIndex`, resampling (e.g., `resample('M')`), rolling/window operations (`rolling()`), shifting (`shift()`), handling timezone-aware timestamps, and easy parsing of dates. These utilities let analysts align, aggregate, and transform temporal data efficiently.\n"
      ]
    },
    {
      "cell_type": "markdown",
      "id": "b7f82f33",
      "metadata": {
        "id": "b7f82f33"
      },
      "source": [
        "###20. What is the role of a pivot table in Pandas\n",
        "A pivot table reshapes data by aggregating values across two axes (rows and columns) using an aggregation function. It’s useful for summarizing and cross-tabulating datasets (similar to Excel pivot tables)."
      ]
    },
    {
      "cell_type": "markdown",
      "id": "706128b3",
      "metadata": {
        "id": "706128b3"
      },
      "source": [
        "###21. Why is NumPy’s array slicing faster than Python’s list slicing\n",
        "NumPy slicing returns views (no data copy) whenever possible and relies on contiguous memory with uniform data types; slicing is implemented in C loops. Python list slicing creates a new list and copies pointers to Python objects, which is slower and uses more memory."
      ]
    },
    {
      "cell_type": "markdown",
      "id": "5eac8d22",
      "metadata": {
        "id": "5eac8d22"
      },
      "source": [
        "###22. What are some common use cases for Seaborn?\n",
        "Common Seaborn use cases:\n",
        "- Visualizing distributions (`histplot`, `kdeplot`)\n",
        "- Comparing groups (`boxplot`, `violinplot`)\n",
        "- Plotting relationships (`scatterplot`, `regplot`)\n",
        "- Exploratory pairwise analysis (`pairplot`)\n",
        "- Visualizing categorical data (`countplot`, `barplot`)\n",
        "\n",
        "Seaborn is excellent for statistical EDA and quick, polished visuals."
      ]
    },
    {
      "cell_type": "markdown",
      "id": "SEfZMPiepADU",
      "metadata": {
        "id": "SEfZMPiepADU"
      },
      "source": [
        "## **Practical Questions**"
      ]
    },
    {
      "cell_type": "markdown",
      "id": "755c3319",
      "metadata": {
        "id": "755c3319"
      },
      "source": [
        "###1. How do you create a 2D NumPy array and calculate the sum of each row"
      ]
    },
    {
      "cell_type": "code",
      "execution_count": null,
      "id": "bd4c5f08",
      "metadata": {
        "colab": {
          "base_uri": "https://localhost:8080/"
        },
        "id": "bd4c5f08",
        "outputId": "244d28bf-3e05-42b5-e7f8-8de8b4f142e8"
      },
      "outputs": [
        {
          "name": "stdout",
          "output_type": "stream",
          "text": [
            "Array:\n",
            " [[1 2 3]\n",
            " [4 5 6]\n",
            " [7 8 9]]\n",
            "Sum of each row: [ 6 15 24]\n"
          ]
        }
      ],
      "source": [
        "import numpy as np\n",
        "arr = np.array([[1,2,3],[4,5,6],[7,8,9]])\n",
        "row_sums = arr.sum(axis=1)\n",
        "print('Array:\\n', arr)\n",
        "print('Sum of each row:', row_sums)"
      ]
    },
    {
      "cell_type": "markdown",
      "id": "7cd3f53b",
      "metadata": {
        "id": "7cd3f53b"
      },
      "source": [
        "###2. Write a Pandas script to find the mean of a specific column in a DataFrame"
      ]
    },
    {
      "cell_type": "code",
      "execution_count": null,
      "id": "af415b25",
      "metadata": {
        "colab": {
          "base_uri": "https://localhost:8080/"
        },
        "id": "af415b25",
        "outputId": "3675e4f3-5925-4182-acda-7f3901c9536e"
      },
      "outputs": [
        {
          "name": "stdout",
          "output_type": "stream",
          "text": [
            "Mean age: 25.666666666666668\n"
          ]
        }
      ],
      "source": [
        "import pandas as pd\n",
        "df = pd.DataFrame({'name':['A','B','C'],'age':[25,30,22],'score':[80,90,85]})\n",
        "mean_age = df['age'].mean()\n",
        "print('Mean age:', mean_age)"
      ]
    },
    {
      "cell_type": "markdown",
      "id": "426692ca",
      "metadata": {
        "id": "426692ca"
      },
      "source": [
        "###3. Create a scatter plot using Matplotlib"
      ]
    },
    {
      "cell_type": "code",
      "execution_count": null,
      "id": "8b1df4ad",
      "metadata": {
        "colab": {
          "base_uri": "https://localhost:8080/",
          "height": 472
        },
        "id": "8b1df4ad",
        "outputId": "ff2b7aa6-3db5-4e3f-d7ca-7d0db2e652c2"
      },
      "outputs": [
        {
          "data": {
            "image/png": "[encoded data removed]",
            "text/plain": [
              "<Figure size 640x480 with 1 Axes>"
            ]
          },
          "metadata": {},
          "output_type": "display_data"
        }
      ],
      "source": [
        "import matplotlib.pyplot as plt\n",
        "x = [1,2,3,4,5]\n",
        "y = [2,3,5,7,11]\n",
        "plt.scatter(x,y)\n",
        "plt.title('Scatter plot')\n",
        "plt.xlabel('x'); plt.ylabel('y')\n",
        "plt.show()"
      ]
    },
    {
      "cell_type": "markdown",
      "id": "7162711e",
      "metadata": {
        "id": "7162711e"
      },
      "source": [
        "###4. How do you calculate the correlation matrix using Seaborn and visualize it with a heatmap"
      ]
    },
    {
      "cell_type": "code",
      "execution_count": null,
      "id": "8985fa39",
      "metadata": {
        "colab": {
          "base_uri": "https://localhost:8080/",
          "height": 452
        },
        "id": "8985fa39",
        "outputId": "a20a0894-db28-4ea8-d24e-3f07f2165922"
      },
      "outputs": [
        {
          "data": {
            "text/plain": [
              "<Axes: >"
            ]
          },
          "execution_count": 4,
          "metadata": {},
          "output_type": "execute_result"
        },
        {
          "data": {
            "image/png": "[encoded data removed]",
            "text/plain": [
              "<Figure size 640x480 with 2 Axes>"
            ]
          },
          "metadata": {},
          "output_type": "display_data"
        }
      ],
      "source": [
        "import seaborn as sns, pandas as pd\n",
        "import numpy as np\n",
        "df = pd.DataFrame(np.random.randn(100,4), columns=list('ABCD'))\n",
        "corr = df.corr()\n",
        "sns.heatmap(corr, annot=True)"
      ]
    },
    {
      "cell_type": "markdown",
      "id": "5213ac9d",
      "metadata": {
        "id": "5213ac9d"
      },
      "source": [
        "###5. Generate a bar plot using Plotly"
      ]
    },
    {
      "cell_type": "code",
      "execution_count": null,
      "id": "6f8ee31c",
      "metadata": {
        "colab": {
          "base_uri": "https://localhost:8080/",
          "height": 542
        },
        "id": "6f8ee31c",
        "outputId": "d4b0750a-53e1-4978-952e-664e5c62615f"
      },
      "outputs": [
        {
          "data": {
            "text/html": [
              "<html>\n",
              "<head><meta charset=\"utf-8\" /></head>\n",
              "<body>\n",
              "    <div>            <script src=\"https://cdnjs.cloudflare.com/ajax/libs/mathjax/2.7.5/MathJax.js?config=TeX-AMS-MML_SVG\"></script><script type=\"text/javascript\">if (window.MathJax && window.MathJax.Hub && window.MathJax.Hub.Config) {window.MathJax.Hub.Config({SVG: {font: \"STIX-Web\"}});}</script>                <script type=\"text/javascript\">window.PlotlyConfig = {MathJaxConfig: 'local'};</script>\n",
              "        <script charset=\"utf-8\" src=\"https://cdn.plot.ly/plotly-2.35.2.min.js\"></script>                <div id=\"dea1073c-0ca3-4e25-b73a-325d80fd485d\" class=\"plotly-graph-div\" style=\"height:525px; width:100%;\"></div>            <script type=\"text/javascript\">                                    window.PLOTLYENV=window.PLOTLYENV || {};                                    if (document.getElementById(\"dea1073c-0ca3-4e25-b73a-325d80fd485d\")) {                    Plotly.newPlot(                        \"dea1073c-0ca3-4e25-b73a-325d80fd485d\",                        [{\"alignmentgroup\":\"True\",\"hovertemplate\":\"fruits=%{x}\\u003cbr\\u003ecount=%{y}\\u003cextra\\u003e\\u003c\\u002fextra\\u003e\",\"legendgroup\":\"\",\"marker\":{\"color\":\"#636efa\",\"pattern\":{\"shape\":\"\"}},\"name\":\"\",\"offsetgroup\":\"\",\"orientation\":\"v\",\"showlegend\":false,\"textposition\":\"auto\",\"x\":[\"apple\",\"banana\",\"orange\"],\"xaxis\":\"x\",\"y\":[10,15,7],\"yaxis\":\"y\",\"type\":\"bar\"}],                        {\"template\":{\"data\":{\"histogram2dcontour\":[{\"type\":\"histogram2dcontour\",\"colorbar\":{\"outlinewidth\":0,\"ticks\":\"\"},\"colorscale\":[[0.0,\"#0d0887\"],[0.1111111111111111,\"#46039f\"],[0.2222222222222222,\"#7201a8\"],[0.3333333333333333,\"#9c179e\"],[0.4444444444444444,\"#bd3786\"],[0.5555555555555556,\"#d8576b\"],[0.6666666666666666,\"#ed7953\"],[0.7777777777777778,\"#fb9f3a\"],[0.8888888888888888,\"#fdca26\"],[1.0,\"#f0f921\"]]}],\"choropleth\":[{\"type\":\"choropleth\",\"colorbar\":{\"outlinewidth\":0,\"ticks\":\"\"}}],\"histogram2d\":[{\"type\":\"histogram2d\",\"colorbar\":{\"outlinewidth\":0,\"ticks\":\"\"},\"colorscale\":[[0.0,\"#0d0887\"],[0.1111111111111111,\"#46039f\"],[0.2222222222222222,\"#7201a8\"],[0.3333333333333333,\"#9c179e\"],[0.4444444444444444,\"#bd3786\"],[0.5555555555555556,\"#d8576b\"],[0.6666666666666666,\"#ed7953\"],[0.7777777777777778,\"#fb9f3a\"],[0.8888888888888888,\"#fdca26\"],[1.0,\"#f0f921\"]]}],\"heatmap\":[{\"type\":\"heatmap\",\"colorbar\":{\"outlinewidth\":0,\"ticks\":\"\"},\"colorscale\":[[0.0,\"#0d0887\"],[0.1111111111111111,\"#46039f\"],[0.2222222222222222,\"#7201a8\"],[0.3333333333333333,\"#9c179e\"],[0.4444444444444444,\"#bd3786\"],[0.5555555555555556,\"#d8576b\"],[0.6666666666666666,\"#ed7953\"],[0.7777777777777778,\"#fb9f3a\"],[0.8888888888888888,\"#fdca26\"],[1.0,\"#f0f921\"]]}],\"heatmapgl\":[{\"type\":\"heatmapgl\",\"colorbar\":{\"outlinewidth\":0,\"ticks\":\"\"},\"colorscale\":[[0.0,\"#0d0887\"],[0.1111111111111111,\"#46039f\"],[0.2222222222222222,\"#7201a8\"],[0.3333333333333333,\"#9c179e\"],[0.4444444444444444,\"#bd3786\"],[0.5555555555555556,\"#d8576b\"],[0.6666666666666666,\"#ed7953\"],[0.7777777777777778,\"#fb9f3a\"],[0.8888888888888888,\"#fdca26\"],[1.0,\"#f0f921\"]]}],\"contourcarpet\":[{\"type\":\"contourcarpet\",\"colorbar\":{\"outlinewidth\":0,\"ticks\":\"\"}}],\"contour\":[{\"type\":\"contour\",\"colorbar\":{\"outlinewidth\":0,\"ticks\":\"\"},\"colorscale\":[[0.0,\"#0d0887\"],[0.1111111111111111,\"#46039f\"],[0.2222222222222222,\"#7201a8\"],[0.3333333333333333,\"#9c179e\"],[0.4444444444444444,\"#bd3786\"],[0.5555555555555556,\"#d8576b\"],[0.6666666666666666,\"#ed7953\"],[0.7777777777777778,\"#fb9f3a\"],[0.8888888888888888,\"#fdca26\"],[1.0,\"#f0f921\"]]}],\"surface\":[{\"type\":\"surface\",\"colorbar\":{\"outlinewidth\":0,\"ticks\":\"\"},\"colorscale\":[[0.0,\"#0d0887\"],[0.1111111111111111,\"#46039f\"],[0.2222222222222222,\"#7201a8\"],[0.3333333333333333,\"#9c179e\"],[0.4444444444444444,\"#bd3786\"],[0.5555555555555556,\"#d8576b\"],[0.6666666666666666,\"#ed7953\"],[0.7777777777777778,\"#fb9f3a\"],[0.8888888888888888,\"#fdca26\"],[1.0,\"#f0f921\"]]}],\"mesh3d\":[{\"type\":\"mesh3d\",\"colorbar\":{\"outlinewidth\":0,\"ticks\":\"\"}}],\"scatter\":[{\"fillpattern\":{\"fillmode\":\"overlay\",\"size\":10,\"solidity\":0.2},\"type\":\"scatter\"}],\"parcoords\":[{\"type\":\"parcoords\",\"line\":{\"colorbar\":{\"outlinewidth\":0,\"ticks\":\"\"}}}],\"scatterpolargl\":[{\"type\":\"scatterpolargl\",\"marker\":{\"colorbar\":{\"outlinewidth\":0,\"ticks\":\"\"}}}],\"bar\":[{\"error_x\":{\"color\":\"#2a3f5f\"},\"error_y\":{\"color\":\"#2a3f5f\"},\"marker\":{\"line\":{\"color\":\"#E5ECF6\",\"width\":0.5},\"pattern\":{\"fillmode\":\"overlay\",\"size\":10,\"solidity\":0.2}},\"type\":\"bar\"}],\"scattergeo\":[{\"type\":\"scattergeo\",\"marker\":{\"colorbar\":{\"outlinewidth\":0,\"ticks\":\"\"}}}],\"scatterpolar\":[{\"type\":\"scatterpolar\",\"marker\":{\"colorbar\":{\"outlinewidth\":0,\"ticks\":\"\"}}}],\"histogram\":[{\"marker\":{\"pattern\":{\"fillmode\":\"overlay\",\"size\":10,\"solidity\":0.2}},\"type\":\"histogram\"}],\"scattergl\":[{\"type\":\"scattergl\",\"marker\":{\"colorbar\":{\"outlinewidth\":0,\"ticks\":\"\"}}}],\"scatter3d\":[{\"type\":\"scatter3d\",\"line\":{\"colorbar\":{\"outlinewidth\":0,\"ticks\":\"\"}},\"marker\":{\"colorbar\":{\"outlinewidth\":0,\"ticks\":\"\"}}}],\"scattermapbox\":[{\"type\":\"scattermapbox\",\"marker\":{\"colorbar\":{\"outlinewidth\":0,\"ticks\":\"\"}}}],\"scatterternary\":[{\"type\":\"scatterternary\",\"marker\":{\"colorbar\":{\"outlinewidth\":0,\"ticks\":\"\"}}}],\"scattercarpet\":[{\"type\":\"scattercarpet\",\"marker\":{\"colorbar\":{\"outlinewidth\":0,\"ticks\":\"\"}}}],\"carpet\":[{\"aaxis\":{\"endlinecolor\":\"#2a3f5f\",\"gridcolor\":\"white\",\"linecolor\":\"white\",\"minorgridcolor\":\"white\",\"startlinecolor\":\"#2a3f5f\"},\"baxis\":{\"endlinecolor\":\"#2a3f5f\",\"gridcolor\":\"white\",\"linecolor\":\"white\",\"minorgridcolor\":\"white\",\"startlinecolor\":\"#2a3f5f\"},\"type\":\"carpet\"}],\"table\":[{\"cells\":{\"fill\":{\"color\":\"#EBF0F8\"},\"line\":{\"color\":\"white\"}},\"header\":{\"fill\":{\"color\":\"#C8D4E3\"},\"line\":{\"color\":\"white\"}},\"type\":\"table\"}],\"barpolar\":[{\"marker\":{\"line\":{\"color\":\"#E5ECF6\",\"width\":0.5},\"pattern\":{\"fillmode\":\"overlay\",\"size\":10,\"solidity\":0.2}},\"type\":\"barpolar\"}],\"pie\":[{\"automargin\":true,\"type\":\"pie\"}]},\"layout\":{\"autotypenumbers\":\"strict\",\"colorway\":[\"#636efa\",\"#EF553B\",\"#00cc96\",\"#ab63fa\",\"#FFA15A\",\"#19d3f3\",\"#FF6692\",\"#B6E880\",\"#FF97FF\",\"#FECB52\"],\"font\":{\"color\":\"#2a3f5f\"},\"hovermode\":\"closest\",\"hoverlabel\":{\"align\":\"left\"},\"paper_bgcolor\":\"white\",\"plot_bgcolor\":\"#E5ECF6\",\"polar\":{\"bgcolor\":\"#E5ECF6\",\"angularaxis\":{\"gridcolor\":\"white\",\"linecolor\":\"white\",\"ticks\":\"\"},\"radialaxis\":{\"gridcolor\":\"white\",\"linecolor\":\"white\",\"ticks\":\"\"}},\"ternary\":{\"bgcolor\":\"#E5ECF6\",\"aaxis\":{\"gridcolor\":\"white\",\"linecolor\":\"white\",\"ticks\":\"\"},\"baxis\":{\"gridcolor\":\"white\",\"linecolor\":\"white\",\"ticks\":\"\"},\"caxis\":{\"gridcolor\":\"white\",\"linecolor\":\"white\",\"ticks\":\"\"}},\"coloraxis\":{\"colorbar\":{\"outlinewidth\":0,\"ticks\":\"\"}},\"colorscale\":{\"sequential\":[[0.0,\"#0d0887\"],[0.1111111111111111,\"#46039f\"],[0.2222222222222222,\"#7201a8\"],[0.3333333333333333,\"#9c179e\"],[0.4444444444444444,\"#bd3786\"],[0.5555555555555556,\"#d8576b\"],[0.6666666666666666,\"#ed7953\"],[0.7777777777777778,\"#fb9f3a\"],[0.8888888888888888,\"#fdca26\"],[1.0,\"#f0f921\"]],\"sequentialminus\":[[0.0,\"#0d0887\"],[0.1111111111111111,\"#46039f\"],[0.2222222222222222,\"#7201a8\"],[0.3333333333333333,\"#9c179e\"],[0.4444444444444444,\"#bd3786\"],[0.5555555555555556,\"#d8576b\"],[0.6666666666666666,\"#ed7953\"],[0.7777777777777778,\"#fb9f3a\"],[0.8888888888888888,\"#fdca26\"],[1.0,\"#f0f921\"]],\"diverging\":[[0,\"#8e0152\"],[0.1,\"#c51b7d\"],[0.2,\"#de77ae\"],[0.3,\"#f1b6da\"],[0.4,\"#fde0ef\"],[0.5,\"#f7f7f7\"],[0.6,\"#e6f5d0\"],[0.7,\"#b8e186\"],[0.8,\"#7fbc41\"],[0.9,\"#4d9221\"],[1,\"#276419\"]]},\"xaxis\":{\"gridcolor\":\"white\",\"linecolor\":\"white\",\"ticks\":\"\",\"title\":{\"standoff\":15},\"zerolinecolor\":\"white\",\"automargin\":true,\"zerolinewidth\":2},\"yaxis\":{\"gridcolor\":\"white\",\"linecolor\":\"white\",\"ticks\":\"\",\"title\":{\"standoff\":15},\"zerolinecolor\":\"white\",\"automargin\":true,\"zerolinewidth\":2},\"scene\":{\"xaxis\":{\"backgroundcolor\":\"#E5ECF6\",\"gridcolor\":\"white\",\"linecolor\":\"white\",\"showbackground\":true,\"ticks\":\"\",\"zerolinecolor\":\"white\",\"gridwidth\":2},\"yaxis\":{\"backgroundcolor\":\"#E5ECF6\",\"gridcolor\":\"white\",\"linecolor\":\"white\",\"showbackground\":true,\"ticks\":\"\",\"zerolinecolor\":\"white\",\"gridwidth\":2},\"zaxis\":{\"backgroundcolor\":\"#E5ECF6\",\"gridcolor\":\"white\",\"linecolor\":\"white\",\"showbackground\":true,\"ticks\":\"\",\"zerolinecolor\":\"white\",\"gridwidth\":2}},\"shapedefaults\":{\"line\":{\"color\":\"#2a3f5f\"}},\"annotationdefaults\":{\"arrowcolor\":\"#2a3f5f\",\"arrowhead\":0,\"arrowwidth\":1},\"geo\":{\"bgcolor\":\"white\",\"landcolor\":\"#E5ECF6\",\"subunitcolor\":\"white\",\"showland\":true,\"showlakes\":true,\"lakecolor\":\"white\"},\"title\":{\"x\":0.05},\"mapbox\":{\"style\":\"light\"}}},\"xaxis\":{\"anchor\":\"y\",\"domain\":[0.0,1.0],\"title\":{\"text\":\"fruits\"}},\"yaxis\":{\"anchor\":\"x\",\"domain\":[0.0,1.0],\"title\":{\"text\":\"count\"}},\"legend\":{\"tracegroupgap\":0},\"title\":{\"text\":\"Fruit counts\"},\"barmode\":\"relative\"},                        {\"responsive\": true}                    ).then(function(){\n",
              "                            \n",
              "var gd = document.getElementById('dea1073c-0ca3-4e25-b73a-325d80fd485d');\n",
              "var x = new MutationObserver(function (mutations, observer) {{\n",
              "        var display = window.getComputedStyle(gd).display;\n",
              "        if (!display || display === 'none') {{\n",
              "            console.log([gd, 'removed!']);\n",
              "            Plotly.purge(gd);\n",
              "            observer.disconnect();\n",
              "        }}\n",
              "}});\n",
              "\n",
              "// Listen for the removal of the full notebook cells\n",
              "var notebookContainer = gd.closest('#notebook-container');\n",
              "if (notebookContainer) {{\n",
              "    x.observe(notebookContainer, {childList: true});\n",
              "}}\n",
              "\n",
              "// Listen for the clearing of the current output cell\n",
              "var outputEl = gd.closest('.output');\n",
              "if (outputEl) {{\n",
              "    x.observe(outputEl, {childList: true});\n",
              "}}\n",
              "\n",
              "                        })                };                            </script>        </div>\n",
              "</body>\n",
              "</html>"
            ]
          },
          "metadata": {},
          "output_type": "display_data"
        }
      ],
      "source": [
        "import plotly.express as px, pandas as pd\n",
        "df = pd.DataFrame({'fruits':['apple','banana','orange'],'count':[10,15,7]})\n",
        "fig = px.bar(df, x='fruits', y='count', title='Fruit counts')\n",
        "fig.show()"
      ]
    },
    {
      "cell_type": "markdown",
      "id": "88b985ae",
      "metadata": {
        "id": "88b985ae"
      },
      "source": [
        "###6. Create a DataFrame and add a new column based on an existing column"
      ]
    },
    {
      "cell_type": "code",
      "execution_count": null,
      "id": "ff7d76dc",
      "metadata": {
        "colab": {
          "base_uri": "https://localhost:8080/"
        },
        "id": "ff7d76dc",
        "outputId": "385a921f-19f2-4194-8304-96b43ba6682c"
      },
      "outputs": [
        {
          "name": "stdout",
          "output_type": "stream",
          "text": [
            "   price   tax\n",
            "0    100  18.0\n",
            "1    200  36.0\n",
            "2    150  27.0\n"
          ]
        }
      ],
      "source": [
        "import pandas as pd\n",
        "df = pd.DataFrame({'price':[100,200,150]})\n",
        "df['tax'] = df['price'] * 0.18\n",
        "print(df)"
      ]
    },
    {
      "cell_type": "markdown",
      "id": "452b5d1e",
      "metadata": {
        "id": "452b5d1e"
      },
      "source": [
        "###7. Write a program to perform element-wise multiplication of two NumPy arrays"
      ]
    },
    {
      "cell_type": "code",
      "execution_count": null,
      "id": "b61de64d",
      "metadata": {
        "colab": {
          "base_uri": "https://localhost:8080/"
        },
        "id": "b61de64d",
        "outputId": "6e68b9df-5b85-4559-d5ca-250fecc22b9d"
      },
      "outputs": [
        {
          "name": "stdout",
          "output_type": "stream",
          "text": [
            "[ 4 10 18]\n"
          ]
        }
      ],
      "source": [
        "import numpy as np\n",
        "a = np.array([1,2,3])\n",
        "b = np.array([4,5,6])\n",
        "print(a * b)  # [4 10 18]"
      ]
    },
    {
      "cell_type": "markdown",
      "id": "6ef27eeb",
      "metadata": {
        "id": "6ef27eeb"
      },
      "source": [
        "###8. Create a line plot with multiple lines using Matplotlib"
      ]
    },
    {
      "cell_type": "code",
      "execution_count": null,
      "id": "ae643a04",
      "metadata": {
        "colab": {
          "base_uri": "https://localhost:8080/",
          "height": 452
        },
        "id": "ae643a04",
        "outputId": "f048c837-55df-43f2-923e-b4249346a7c4"
      },
      "outputs": [
        {
          "data": {
            "image/png": "[encoded data removed]",
            "text/plain": [
              "<Figure size 640x480 with 1 Axes>"
            ]
          },
          "metadata": {},
          "output_type": "display_data"
        }
      ],
      "source": [
        "import matplotlib.pyplot as plt\n",
        "x = [0,1,2,3,4]\n",
        "plt.plot(x, [i for i in x], label='y=x')\n",
        "plt.plot(x, [i**2 for i in x], label='y=x^2')\n",
        "plt.legend(); plt.title('Multiple lines'); plt.show()"
      ]
    },
    {
      "cell_type": "markdown",
      "id": "84cb521a",
      "metadata": {
        "id": "84cb521a"
      },
      "source": [
        "###9.. Generate a Pandas DataFrame and filter rows where a column value is greater than a threshold"
      ]
    },
    {
      "cell_type": "code",
      "execution_count": null,
      "id": "17f795e0",
      "metadata": {
        "colab": {
          "base_uri": "https://localhost:8080/"
        },
        "id": "17f795e0",
        "outputId": "248646fb-c99c-418e-a426-eaa91dc8a252"
      },
      "outputs": [
        {
          "name": "stdout",
          "output_type": "stream",
          "text": [
            "  name  score\n",
            "1    B     80\n",
            "2    C     70\n"
          ]
        }
      ],
      "source": [
        "import pandas as pd\n",
        "df = pd.DataFrame({'name':['A','B','C'],'score':[50,80,70]})\n",
        "filtered = df[df['score'] > 65]\n",
        "print(filtered)"
      ]
    },
    {
      "cell_type": "markdown",
      "id": "270b8a6f",
      "metadata": {
        "id": "270b8a6f"
      },
      "source": [
        "###10. Create a histogram using Seaborn to visualize a distribution"
      ]
    },
    {
      "cell_type": "code",
      "execution_count": null,
      "id": "1b3afad0",
      "metadata": {
        "colab": {
          "base_uri": "https://localhost:8080/",
          "height": 447
        },
        "id": "1b3afad0",
        "outputId": "a4906796-6299-45e6-bb3a-95a485fbaf5c"
      },
      "outputs": [
        {
          "data": {
            "text/plain": [
              "<Axes: ylabel='Count'>"
            ]
          },
          "execution_count": 10,
          "metadata": {},
          "output_type": "execute_result"
        },
        {
          "data": {
            "image/png": "[encoded data removed]",
            "text/plain": [
              "<Figure size 640x480 with 1 Axes>"
            ]
          },
          "metadata": {},
          "output_type": "display_data"
        }
      ],
      "source": [
        "import seaborn as sns, numpy as np\n",
        "data = np.random.randn(1000)\n",
        "sns.histplot(data, kde=True)"
      ]
    },
    {
      "cell_type": "markdown",
      "id": "7c6a3fcf",
      "metadata": {
        "id": "7c6a3fcf"
      },
      "source": [
        "###11. Perform matrix multiplication using NumPy"
      ]
    },
    {
      "cell_type": "code",
      "execution_count": null,
      "id": "937eb92f",
      "metadata": {
        "colab": {
          "base_uri": "https://localhost:8080/"
        },
        "id": "937eb92f",
        "outputId": "f653763d-93e7-4228-e57d-3211e6b8bde5"
      },
      "outputs": [
        {
          "name": "stdout",
          "output_type": "stream",
          "text": [
            "[[19 22]\n",
            " [43 50]]\n"
          ]
        }
      ],
      "source": [
        "import numpy as np\n",
        "A = np.array([[1,2],[3,4]])\n",
        "B = np.array([[5,6],[7,8]])\n",
        "C = A.dot(B)\n",
        "print(C)"
      ]
    },
    {
      "cell_type": "markdown",
      "id": "d5d0d695",
      "metadata": {
        "id": "d5d0d695"
      },
      "source": [
        "###12. Use Pandas to load a CSV file and display its first 5 rows"
      ]
    },
    {
      "cell_type": "code",
      "execution_count": null,
      "id": "17a650bc",
      "metadata": {
        "colab": {
          "base_uri": "https://localhost:8080/"
        },
        "id": "17a650bc",
        "outputId": "e5f70ce6-a8e3-4ffc-ab32-2b8d6ee65b14"
      },
      "outputs": [
        {
          "name": "stdout",
          "output_type": "stream",
          "text": [
            "      Name  Age         City\n",
            "0    Alice   25     New York\n",
            "1      Bob   30  Los Angeles\n",
            "2  Charlie   35      Chicago\n",
            "3    Diana   40      Houston\n",
            "4      Eve   45      Phoenix\n"
          ]
        }
      ],
      "source": [
        "import pandas as pd\n",
        "import io\n",
        "\n",
        "# Sample data in a string format, similar to what you'd find in a CSV file\n",
        "csv_data = \"\"\"\n",
        "Name,Age,City\n",
        "Alice,25,New York\n",
        "Bob,30,Los Angeles\n",
        "Charlie,35,Chicago\n",
        "Diana,40,Houston\n",
        "Eve,45,Phoenix\n",
        "Frank,50,Philadelphia\n",
        "\"\"\"\n",
        "\n",
        "# Create a file-like object from the string data\n",
        "df = pd.read_csv(io.StringIO(csv_data))\n",
        "print(df.head())"
      ]
    },
    {
      "cell_type": "markdown",
      "id": "8a02e1ec",
      "metadata": {
        "id": "8a02e1ec"
      },
      "source": [
        "###13. Create a 3D scatter plot using Plotly."
      ]
    },
    {
      "cell_type": "code",
      "execution_count": 1,
      "id": "914264e7",
      "metadata": {
        "colab": {
          "base_uri": "https://localhost:8080/",
          "height": 542
        },
        "id": "914264e7",
        "outputId": "8f949dc5-5678-44a3-d021-2ecc0eff5a8b"
      },
      "outputs": [
        {
          "data": {
            "application/vnd.plotly.v1+json": {
              "config": {
                "plotlyServerURL": "https://plot.ly"
              },
              "data": [
                {
                  "hovertemplate": "x=%{x}<br>y=%{y}<br>z=%{z}<extra></extra>",
                  "legendgroup": "",
                  "marker": {
                    "color": "#636efa",
                    "symbol": "circle"
                  },
                  "mode": "markers",
                  "name": "",
                  "scene": "scene",
                  "showlegend": false,
                  "type": "scatter3d",
                  "x": {
                    "bdata": "ss6Btjc55L9CYPwMac7LP19wz+SF/Vi/ekwT953P0r/54vEueaHdv/q9VXl5geW/fuTr57iNbL8glmvauS7pP/9i+jQfytk/Fx6lRmmtAEB1kku8BV8CwM6i6iaDQ/y/uUNYmJYwAcDW5ITw+qPZv3dUMJJgbNy/Y+1FpQG56T/UR8vOnpTHP8UVERa81dW/hM5DMS/6tb8wA9Wt3HK5v9lcOI40I/K/F/U+ll2y4T+wy0Zwc4r8P+7DHFM2y96/9U8vUJsf5z8HWg9A/3HzPwLI4YuSWty/Bbyhjxka7T+Eo/EhUkjuP1htV0LJy7m/yGIsa8h54r8uiRaoZYnXP2lbIVrex+i/WoY2jnipyr/ctsbfs0rAP2A5hnvsL+G/psuJ2KAx7D8iQYIxPLzyP/ltdpQ+4Os//j4DusZN8D/7CEmSan3cv4XFx3bZo+a/3PBgC4z9/L9MwWtN0Zb+v2qFQy9FmO+/f4mBMq1p/b/j6ZhVT7rmPzSPeSB4196/d98P18iE+r+wN2WZZ/vzv2LLoUkLcdi/hVfIL/wl8L+zgsmleJLiv8FlNLvke+y/Xhf7mz77+j/7NkgMQKPnv7lUvatGXfY/OHLh5SeY0T8SuNl0/gnGPy1RTdgF5fI/KzwAuYOX8T8Pwd4EaoTpP2BpCPe+B+s/M5XWH4FZAUB1ja+ro1r1PzsRSwMBovI/qlsnZ4ou7T/0rVyVe73lv1jgqtCjdfw/ZqXJwgfcjb/ZWleZDUvuP9DgA8RqFe8/bC2sECvX7D/xTWUHFAz9vwHD8ojfVPQ/T9Q6/7vF8b/5OTFlj3xmPyM0lHYt47M/nkliPdQKyz/+UKj8otXzP1iJOvXEIPC/X/9jyAoi4b/QXH7CeiX1P8JUp0xqD7q/PWztp1VjwT8QPPKQmCLcP4mqbGDGQfK/BxNQhGl53r8f3obKlfX3Pw496D8Je9a/5KeQAJtA6L/JJBaT4qLGPygLnpDhGvE/VfhAkSOX/78LMHGkNbnlvysTsWQHjtQ/n3fbd39ayD/bBImHYf3ev8l0DV7vjf0/eG/WeAEY8r8=",
                    "dtype": "f8"
                  },
                  "y": {
                    "bdata": "uBF6Nyrr+D/Amkwolk3tPwSgXVW59vE/EQJnm2RlxD9YMDCiHujwP/Q0KngrJQvALSD+m5Lc4L/iKJvYMiD/v8UNCLGnjNk/N6YOBjLwur9H2vZQUBrcP1Wl2LYOL+K/bRRk5YUG6b9Q9wHxemOWP45kg7ucUew/i51+Ef8ry78vtYMShrfav0eMbtJ8tLO/0qfdM2WYkL+pW5ZY80P0P9ckXvUlsuE/UngkNUK18D/SCGKPGM3nv1yvw3M/jso/Y3RrF6rF4r9RZQFF1aervzsKC2VLL9Y/jhgFvva/yL9Xn3Kim1e0P3XmWbP5hMe/c+tbF8YktT+r51ElquLBPy1KCX3qKfA/G81Mzt+y3L8IjYBK8iHwv/AFlH+Q5d0/CPP65aE5wT+2+2hpR+jXP/ICzjw4IvE/R+mDFt0K1z/veJ5gnnDPvzao5ow5Bd4/mzA3CGGd8L9zh3JcrpHwP313xarPzf4//vkdqCAQ7T+YmbU2LcDLP1JHMPtzU++/4+4R2Ciw9b+SWFMpaX1YP4JVX7PJ1ug/QlcQL4M10b8awMKRCRvgvw342PrjVPo/Qi4Pyhis5T97i2QeehrnP/ae0WY63Ou/vVyw92Gz8b9IKUfVpJXPvx+PdaVsYf6/T6Oop75S7T9g5v3fwAS6vztU3N3GZLG/bewV8O5/7r/RCXLvwZftPzgSP6zJI+6/JJMLdELw9L8uCScOM1z1P6X11taRtLq/1dJUzy05+z//t+J5Xin6v+GVLBgVI+y/NJEZdG0Y7b8ZMyrgih7APyl5I2JIQuC/+fT4lMRe/b9cVD9h5A7qP3ZG+jIxD/E/w43basfC8r//Pp8v3TW5P/S+3TzUQvA/Ma7pZ+m96b+V1JAK9u3yPw/1HBmMNuW/C9klkrtt7D8rHtv/onTMPziR52tBn/E/SAAM2y8/A8BsOTLp03q1v2AL8WC0Z+S/StJr1pt93b8Sw26SO1XJP2lyzLeJ6vA/n0AUP7nV9L8SKkXb9Sb1P9PnZs9IQ+U/nYX9+ZfE9L9jpHjoqYdQP6QGMnkTWgBA8LabzOGr4L8=",
                    "dtype": "f8"
                  },
                  "z": {
                    "bdata": "kLQ7W+RR17+ZvsZS0vDjP30od0KSr+4/5tKsfdYO4j/aCMluYBDOP32pY+QFD8O/yUejzNEo8D/ratpX+LztP2xmpteUSPq/xo+fjJGo9b+W5Nq1/G/sP4TMisFPDOM/cozIXriF5D8DdQODEq/gvxwB9/Zo2OS/0idER4K48j/aUHf3yQfgP2cKkV/wmdc/dYnkjIsUAMBg9xmG4MTwP6+buH1q5e8/umk4nIAO9b/mUJxxdVmjvwb3gbTCdcu/5UdV0DFa6b9JfWyUbcTzP3DU9w+NEPk/d4+nu7l45z8HNv/eoNqbP6RMrofBiQBAe57gzzXL9r+YhdtZS6raP4kz+IL7+v6/EhMqOVdz2D+zXOL7ZwH/P3PDE4m4btw/xyHeGG+I8z/LkQEsBIL9P2G7yFHIrMw/LLHhn4g35j/lTWaVe1TwP/DidKZofPu/LzoLq0A+1r96i1FROpHNv0eQQrzMFfS/AzXHlQ0brT/yrU89BuqwP/zrIYgwsPM/iBE9mO+d8T//afinAX/LP6hXeS+TBvG/L7T5C/dE1T/2o4QACOL3PzCiZIOaWeC/s2FV+Vdryb8kd6RDyjbyv+n4fDI9bus/UsZATLoF5z8Zkkj+GwUBQNOFF9PEMvw/AffTLeQS7T/2kIlsA5vjP5beu+NPkfc/bfTyE4KRAsC8vDtqzdSuv99Fm4QWyPQ/Sb+6kwu1179ELr8VGy/KPxfgov8TEfS/iNcjJZ8y8r/XIb4L6nXQvxUp/SrQuNu/v+99zqPZwz8Ec8L/FtcAQJO1WWF7nMC/2MArlB0K8j8+ir8zPfjwP8+iesE06gFAhZmrWkGd5T8g48MXtgvzP7OSsRdLx9C/E9zy91NE879/gYko+gQBQB8iVc+kueQ/dsdHf7zK17+AsS8nPOX4v4pGZ7zKHsg/MlvWiiYc0j/gDhPV2en1P187tpWBFPa/wpj23SoM6786QxzXSuzTv5YAadauPek/jEzHsX2E4D8jjhme4FDyP89ZrWJvq/Q/ILl7s5m077/qmvQOUBnGv14UNDPbG/4/qffSVZ/L378=",
                    "dtype": "f8"
                  }
                }
              ],
              "layout": {
                "legend": {
                  "tracegroupgap": 0
                },
                "scene": {
                  "domain": {
                    "x": [
                      0,
                      1
                    ],
                    "y": [
                      0,
                      1
                    ]
                  },
                  "xaxis": {
                    "title": {
                      "text": "x"
                    }
                  },
                  "yaxis": {
                    "title": {
                      "text": "y"
                    }
                  },
                  "zaxis": {
                    "title": {
                      "text": "z"
                    }
                  }
                },
                "template": {
                  "data": {
                    "bar": [
                      {
                        "error_x": {
                          "color": "#2a3f5f"
                        },
                        "error_y": {
                          "color": "#2a3f5f"
                        },
                        "marker": {
                          "line": {
                            "color": "#E5ECF6",
                            "width": 0.5
                          },
                          "pattern": {
                            "fillmode": "overlay",
                            "size": 10,
                            "solidity": 0.2
                          }
                        },
                        "type": "bar"
                      }
                    ],
                    "barpolar": [
                      {
                        "marker": {
                          "line": {
                            "color": "#E5ECF6",
                            "width": 0.5
                          },
                          "pattern": {
                            "fillmode": "overlay",
                            "size": 10,
                            "solidity": 0.2
                          }
                        },
                        "type": "barpolar"
                      }
                    ],
                    "carpet": [
                      {
                        "aaxis": {
                          "endlinecolor": "#2a3f5f",
                          "gridcolor": "white",
                          "linecolor": "white",
                          "minorgridcolor": "white",
                          "startlinecolor": "#2a3f5f"
                        },
                        "baxis": {
                          "endlinecolor": "#2a3f5f",
                          "gridcolor": "white",
                          "linecolor": "white",
                          "minorgridcolor": "white",
                          "startlinecolor": "#2a3f5f"
                        },
                        "type": "carpet"
                      }
                    ],
                    "choropleth": [
                      {
                        "colorbar": {
                          "outlinewidth": 0,
                          "ticks": ""
                        },
                        "type": "choropleth"
                      }
                    ],
                    "contour": [
                      {
                        "colorbar": {
                          "outlinewidth": 0,
                          "ticks": ""
                        },
                        "colorscale": [
                          [
                            0,
                            "#0d0887"
                          ],
                          [
                            0.1111111111111111,
                            "#46039f"
                          ],
                          [
                            0.2222222222222222,
                            "#7201a8"
                          ],
                          [
                            0.3333333333333333,
                            "#9c179e"
                          ],
                          [
                            0.4444444444444444,
                            "#bd3786"
                          ],
                          [
                            0.5555555555555556,
                            "#d8576b"
                          ],
                          [
                            0.6666666666666666,
                            "#ed7953"
                          ],
                          [
                            0.7777777777777778,
                            "#fb9f3a"
                          ],
                          [
                            0.8888888888888888,
                            "#fdca26"
                          ],
                          [
                            1,
                            "#f0f921"
                          ]
                        ],
                        "type": "contour"
                      }
                    ],
                    "contourcarpet": [
                      {
                        "colorbar": {
                          "outlinewidth": 0,
                          "ticks": ""
                        },
                        "type": "contourcarpet"
                      }
                    ],
                    "heatmap": [
                      {
                        "colorbar": {
                          "outlinewidth": 0,
                          "ticks": ""
                        },
                        "colorscale": [
                          [
                            0,
                            "#0d0887"
                          ],
                          [
                            0.1111111111111111,
                            "#46039f"
                          ],
                          [
                            0.2222222222222222,
                            "#7201a8"
                          ],
                          [
                            0.3333333333333333,
                            "#9c179e"
                          ],
                          [
                            0.4444444444444444,
                            "#bd3786"
                          ],
                          [
                            0.5555555555555556,
                            "#d8576b"
                          ],
                          [
                            0.6666666666666666,
                            "#ed7953"
                          ],
                          [
                            0.7777777777777778,
                            "#fb9f3a"
                          ],
                          [
                            0.8888888888888888,
                            "#fdca26"
                          ],
                          [
                            1,
                            "#f0f921"
                          ]
                        ],
                        "type": "heatmap"
                      }
                    ],
                    "histogram": [
                      {
                        "marker": {
                          "pattern": {
                            "fillmode": "overlay",
                            "size": 10,
                            "solidity": 0.2
                          }
                        },
                        "type": "histogram"
                      }
                    ],
                    "histogram2d": [
                      {
                        "colorbar": {
                          "outlinewidth": 0,
                          "ticks": ""
                        },
                        "colorscale": [
                          [
                            0,
                            "#0d0887"
                          ],
                          [
                            0.1111111111111111,
                            "#46039f"
                          ],
                          [
                            0.2222222222222222,
                            "#7201a8"
                          ],
                          [
                            0.3333333333333333,
                            "#9c179e"
                          ],
                          [
                            0.4444444444444444,
                            "#bd3786"
                          ],
                          [
                            0.5555555555555556,
                            "#d8576b"
                          ],
                          [
                            0.6666666666666666,
                            "#ed7953"
                          ],
                          [
                            0.7777777777777778,
                            "#fb9f3a"
                          ],
                          [
                            0.8888888888888888,
                            "#fdca26"
                          ],
                          [
                            1,
                            "#f0f921"
                          ]
                        ],
                        "type": "histogram2d"
                      }
                    ],
                    "histogram2dcontour": [
                      {
                        "colorbar": {
                          "outlinewidth": 0,
                          "ticks": ""
                        },
                        "colorscale": [
                          [
                            0,
                            "#0d0887"
                          ],
                          [
                            0.1111111111111111,
                            "#46039f"
                          ],
                          [
                            0.2222222222222222,
                            "#7201a8"
                          ],
                          [
                            0.3333333333333333,
                            "#9c179e"
                          ],
                          [
                            0.4444444444444444,
                            "#bd3786"
                          ],
                          [
                            0.5555555555555556,
                            "#d8576b"
                          ],
                          [
                            0.6666666666666666,
                            "#ed7953"
                          ],
                          [
                            0.7777777777777778,
                            "#fb9f3a"
                          ],
                          [
                            0.8888888888888888,
                            "#fdca26"
                          ],
                          [
                            1,
                            "#f0f921"
                          ]
                        ],
                        "type": "histogram2dcontour"
                      }
                    ],
                    "mesh3d": [
                      {
                        "colorbar": {
                          "outlinewidth": 0,
                          "ticks": ""
                        },
                        "type": "mesh3d"
                      }
                    ],
                    "parcoords": [
                      {
                        "line": {
                          "colorbar": {
                            "outlinewidth": 0,
                            "ticks": ""
                          }
                        },
                        "type": "parcoords"
                      }
                    ],
                    "pie": [
                      {
                        "automargin": true,
                        "type": "pie"
                      }
                    ],
                    "scatter": [
                      {
                        "fillpattern": {
                          "fillmode": "overlay",
                          "size": 10,
                          "solidity": 0.2
                        },
                        "type": "scatter"
                      }
                    ],
                    "scatter3d": [
                      {
                        "line": {
                          "colorbar": {
                            "outlinewidth": 0,
                            "ticks": ""
                          }
                        },
                        "marker": {
                          "colorbar": {
                            "outlinewidth": 0,
                            "ticks": ""
                          }
                        },
                        "type": "scatter3d"
                      }
                    ],
                    "scattercarpet": [
                      {
                        "marker": {
                          "colorbar": {
                            "outlinewidth": 0,
                            "ticks": ""
                          }
                        },
                        "type": "scattercarpet"
                      }
                    ],
                    "scattergeo": [
                      {
                        "marker": {
                          "colorbar": {
                            "outlinewidth": 0,
                            "ticks": ""
                          }
                        },
                        "type": "scattergeo"
                      }
                    ],
                    "scattergl": [
                      {
                        "marker": {
                          "colorbar": {
                            "outlinewidth": 0,
                            "ticks": ""
                          }
                        },
                        "type": "scattergl"
                      }
                    ],
                    "scattermap": [
                      {
                        "marker": {
                          "colorbar": {
                            "outlinewidth": 0,
                            "ticks": ""
                          }
                        },
                        "type": "scattermap"
                      }
                    ],
                    "scattermapbox": [
                      {
                        "marker": {
                          "colorbar": {
                            "outlinewidth": 0,
                            "ticks": ""
                          }
                        },
                        "type": "scattermapbox"
                      }
                    ],
                    "scatterpolar": [
                      {
                        "marker": {
                          "colorbar": {
                            "outlinewidth": 0,
                            "ticks": ""
                          }
                        },
                        "type": "scatterpolar"
                      }
                    ],
                    "scatterpolargl": [
                      {
                        "marker": {
                          "colorbar": {
                            "outlinewidth": 0,
                            "ticks": ""
                          }
                        },
                        "type": "scatterpolargl"
                      }
                    ],
                    "scatterternary": [
                      {
                        "marker": {
                          "colorbar": {
                            "outlinewidth": 0,
                            "ticks": ""
                          }
                        },
                        "type": "scatterternary"
                      }
                    ],
                    "surface": [
                      {
                        "colorbar": {
                          "outlinewidth": 0,
                          "ticks": ""
                        },
                        "colorscale": [
                          [
                            0,
                            "#0d0887"
                          ],
                          [
                            0.1111111111111111,
                            "#46039f"
                          ],
                          [
                            0.2222222222222222,
                            "#7201a8"
                          ],
                          [
                            0.3333333333333333,
                            "#9c179e"
                          ],
                          [
                            0.4444444444444444,
                            "#bd3786"
                          ],
                          [
                            0.5555555555555556,
                            "#d8576b"
                          ],
                          [
                            0.6666666666666666,
                            "#ed7953"
                          ],
                          [
                            0.7777777777777778,
                            "#fb9f3a"
                          ],
                          [
                            0.8888888888888888,
                            "#fdca26"
                          ],
                          [
                            1,
                            "#f0f921"
                          ]
                        ],
                        "type": "surface"
                      }
                    ],
                    "table": [
                      {
                        "cells": {
                          "fill": {
                            "color": "#EBF0F8"
                          },
                          "line": {
                            "color": "white"
                          }
                        },
                        "header": {
                          "fill": {
                            "color": "#C8D4E3"
                          },
                          "line": {
                            "color": "white"
                          }
                        },
                        "type": "table"
                      }
                    ]
                  },
                  "layout": {
                    "annotationdefaults": {
                      "arrowcolor": "#2a3f5f",
                      "arrowhead": 0,
                      "arrowwidth": 1
                    },
                    "autotypenumbers": "strict",
                    "coloraxis": {
                      "colorbar": {
                        "outlinewidth": 0,
                        "ticks": ""
                      }
                    },
                    "colorscale": {
                      "diverging": [
                        [
                          0,
                          "#8e0152"
                        ],
                        [
                          0.1,
                          "#c51b7d"
                        ],
                        [
                          0.2,
                          "#de77ae"
                        ],
                        [
                          0.3,
                          "#f1b6da"
                        ],
                        [
                          0.4,
                          "#fde0ef"
                        ],
                        [
                          0.5,
                          "#f7f7f7"
                        ],
                        [
                          0.6,
                          "#e6f5d0"
                        ],
                        [
                          0.7,
                          "#b8e186"
                        ],
                        [
                          0.8,
                          "#7fbc41"
                        ],
                        [
                          0.9,
                          "#4d9221"
                        ],
                        [
                          1,
                          "#276419"
                        ]
                      ],
                      "sequential": [
                        [
                          0,
                          "#0d0887"
                        ],
                        [
                          0.1111111111111111,
                          "#46039f"
                        ],
                        [
                          0.2222222222222222,
                          "#7201a8"
                        ],
                        [
                          0.3333333333333333,
                          "#9c179e"
                        ],
                        [
                          0.4444444444444444,
                          "#bd3786"
                        ],
                        [
                          0.5555555555555556,
                          "#d8576b"
                        ],
                        [
                          0.6666666666666666,
                          "#ed7953"
                        ],
                        [
                          0.7777777777777778,
                          "#fb9f3a"
                        ],
                        [
                          0.8888888888888888,
                          "#fdca26"
                        ],
                        [
                          1,
                          "#f0f921"
                        ]
                      ],
                      "sequentialminus": [
                        [
                          0,
                          "#0d0887"
                        ],
                        [
                          0.1111111111111111,
                          "#46039f"
                        ],
                        [
                          0.2222222222222222,
                          "#7201a8"
                        ],
                        [
                          0.3333333333333333,
                          "#9c179e"
                        ],
                        [
                          0.4444444444444444,
                          "#bd3786"
                        ],
                        [
                          0.5555555555555556,
                          "#d8576b"
                        ],
                        [
                          0.6666666666666666,
                          "#ed7953"
                        ],
                        [
                          0.7777777777777778,
                          "#fb9f3a"
                        ],
                        [
                          0.8888888888888888,
                          "#fdca26"
                        ],
                        [
                          1,
                          "#f0f921"
                        ]
                      ]
                    },
                    "colorway": [
                      "#636efa",
                      "#EF553B",
                      "#00cc96",
                      "#ab63fa",
                      "#FFA15A",
                      "#19d3f3",
                      "#FF6692",
                      "#B6E880",
                      "#FF97FF",
                      "#FECB52"
                    ],
                    "font": {
                      "color": "#2a3f5f"
                    },
                    "geo": {
                      "bgcolor": "white",
                      "lakecolor": "white",
                      "landcolor": "#E5ECF6",
                      "showlakes": true,
                      "showland": true,
                      "subunitcolor": "white"
                    },
                    "hoverlabel": {
                      "align": "left"
                    },
                    "hovermode": "closest",
                    "mapbox": {
                      "style": "light"
                    },
                    "paper_bgcolor": "white",
                    "plot_bgcolor": "#E5ECF6",
                    "polar": {
                      "angularaxis": {
                        "gridcolor": "white",
                        "linecolor": "white",
                        "ticks": ""
                      },
                      "bgcolor": "#E5ECF6",
                      "radialaxis": {
                        "gridcolor": "white",
                        "linecolor": "white",
                        "ticks": ""
                      }
                    },
                    "scene": {
                      "xaxis": {
                        "backgroundcolor": "#E5ECF6",
                        "gridcolor": "white",
                        "gridwidth": 2,
                        "linecolor": "white",
                        "showbackground": true,
                        "ticks": "",
                        "zerolinecolor": "white"
                      },
                      "yaxis": {
                        "backgroundcolor": "#E5ECF6",
                        "gridcolor": "white",
                        "gridwidth": 2,
                        "linecolor": "white",
                        "showbackground": true,
                        "ticks": "",
                        "zerolinecolor": "white"
                      },
                      "zaxis": {
                        "backgroundcolor": "#E5ECF6",
                        "gridcolor": "white",
                        "gridwidth": 2,
                        "linecolor": "white",
                        "showbackground": true,
                        "ticks": "",
                        "zerolinecolor": "white"
                      }
                    },
                    "shapedefaults": {
                      "line": {
                        "color": "#2a3f5f"
                      }
                    },
                    "ternary": {
                      "aaxis": {
                        "gridcolor": "white",
                        "linecolor": "white",
                        "ticks": ""
                      },
                      "baxis": {
                        "gridcolor": "white",
                        "linecolor": "white",
                        "ticks": ""
                      },
                      "bgcolor": "#E5ECF6",
                      "caxis": {
                        "gridcolor": "white",
                        "linecolor": "white",
                        "ticks": ""
                      }
                    },
                    "title": {
                      "x": 0.05
                    },
                    "xaxis": {
                      "automargin": true,
                      "gridcolor": "white",
                      "linecolor": "white",
                      "ticks": "",
                      "title": {
                        "standoff": 15
                      },
                      "zerolinecolor": "white",
                      "zerolinewidth": 2
                    },
                    "yaxis": {
                      "automargin": true,
                      "gridcolor": "white",
                      "linecolor": "white",
                      "ticks": "",
                      "title": {
                        "standoff": 15
                      },
                      "zerolinecolor": "white",
                      "zerolinewidth": 2
                    }
                  }
                },
                "title": {
                  "text": "3D Scatter"
                }
              }
            }
          },
          "metadata": {},
          "output_type": "display_data"
        }
      ],
      "source": [
        "import plotly.express as px, pandas as pd, numpy as np\n",
        "df = pd.DataFrame({'x':np.random.randn(100),'y':np.random.randn(100),'z':np.random.randn(100)})\n",
        "fig = px.scatter_3d(df, x='x', y='y', z='z', title='3D Scatter')\n",
        "fig.show()"
      ]
    }
  ],
  "metadata": {
    "colab": {
      "provenance": []
    },
    "kernelspec": {
      "display_name": "Python 3",
      "name": "python3"
    },
    "language_info": {
      "codemirror_mode": {
        "name": "ipython",
        "version": 3
      },
      "file_extension": ".py",
      "mimetype": "text/x-python",
      "name": "python",
      "nbconvert_exporter": "python",
      "pygments_lexer": "ipython3",
      "version": "3.13.1"
    }
  },
  "nbformat": 4,
  "nbformat_minor": 5
}
