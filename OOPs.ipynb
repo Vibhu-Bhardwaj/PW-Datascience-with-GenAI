{
  "cells": [
    {
      "cell_type": "markdown",
      "id": "24103993",
      "metadata": {
        "id": "24103993"
      },
      "source": [
        "#OOPs Assignment"
      ]
    },
    {
      "cell_type": "markdown",
      "id": "6ca4c3de",
      "metadata": {
        "id": "6ca4c3de"
      },
      "source": [
        "###1. What is Object-Oriented Programming (OOP)\n",
        "Object-Oriented Programming (OOP) is a programming paradigm based on the concept of **objects**, which contain both data (attributes) and behavior (methods). It promotes code reusability, modularity, and abstraction.\n",
        "\n",
        "Example:\n",
        "```python\n",
        "class Car:\n",
        "    def __init__(self, brand):\n",
        "        self.brand = brand\n",
        "    def drive(self):\n",
        "        print(f\"{self.brand} is driving\")\n",
        "```"
      ]
    },
    {
      "cell_type": "markdown",
      "id": "ea02e436",
      "metadata": {
        "id": "ea02e436"
      },
      "source": [
        "###2. What is a class in OOP\n",
        "A class is a blueprint for creating objects. It defines the attributes and methods that the objects created from it will have.\n",
        "\n",
        "Example:\n",
        "```python\n",
        "class Dog:\n",
        "    def bark(self):\n",
        "        print(\"Woof!\")\n",
        "```"
      ]
    },
    {
      "cell_type": "markdown",
      "id": "f59681fc",
      "metadata": {
        "id": "f59681fc"
      },
      "source": [
        "###3. What is an object in OOP\n",
        "An object is an instance of a class. It represents a specific implementation of the class blueprint.\n",
        "\n",
        "Example:\n",
        "```python\n",
        "d = Dog()\n",
        "d.bark()\n",
        "```"
      ]
    },
    {
      "cell_type": "markdown",
      "id": "26717c00",
      "metadata": {
        "id": "26717c00"
      },
      "source": [
        "###4. What is the difference between abstraction and encapsulation\n",
        "- **Abstraction**: Hiding implementation details and showing only the necessary functionality.\n",
        "- **Encapsulation**: Restricting access to certain details of an object using access modifiers.\n",
        "\n",
        "Example:\n",
        "```python\n",
        "# Abstraction via abstract method\n",
        "from abc import ABC, abstractmethod\n",
        "class Shape(ABC):\n",
        "    @abstractmethod\n",
        "    def area(self): pass\n",
        "\n",
        "# Encapsulation\n",
        "class Bank:\n",
        "    def __init__(self):\n",
        "        self.__balance = 0\n",
        "```"
      ]
    },
    {
      "cell_type": "markdown",
      "id": "ccbed97d",
      "metadata": {
        "id": "ccbed97d"
      },
      "source": [
        "###5. What are dunder methods in Python\n",
        "Dunder (double underscore) methods are special predefined methods in Python with names starting and ending with double underscores, e.g., `__init__`, `__str__`, `__add__`.\n",
        "\n",
        "They enable operator overloading, custom object initialization, and more."
      ]
    },
    {
      "cell_type": "markdown",
      "id": "94486613",
      "metadata": {
        "id": "94486613"
      },
      "source": [
        "###6. Explain the concept of inheritance in OOP\n",
        "Inheritance allows a class (child) to acquire properties and methods from another class (parent).\n",
        "\n",
        "Example:\n",
        "```python\n",
        "class Animal:\n",
        "    def speak(self):\n",
        "        print(\"Animal speaks\")\n",
        "class Dog(Animal):\n",
        "    pass\n",
        "```"
      ]
    },
    {
      "cell_type": "markdown",
      "id": "3d90aada",
      "metadata": {
        "id": "3d90aada"
      },
      "source": [
        "###7. What is polymorphism in OOP\n",
        "Polymorphism allows the same method name to have different implementations depending on the object.\n",
        "\n",
        "Example:\n",
        "```python\n",
        "class Bird:\n",
        "    def fly(self):\n",
        "        print(\"Flying\")\n",
        "class Penguin(Bird):\n",
        "    def fly(self):\n",
        "        print(\"Cannot fly\")\n",
        "```"
      ]
    },
    {
      "cell_type": "markdown",
      "id": "5cdb97e2",
      "metadata": {
        "id": "5cdb97e2"
      },
      "source": [
        "###8. How is encapsulation achieved in Python\n",
        "Encapsulation is achieved by making variables private using a double underscore (`__`) and providing getter and setter methods to access/modify them."
      ]
    },
    {
      "cell_type": "markdown",
      "id": "22a6402c",
      "metadata": {
        "id": "22a6402c"
      },
      "source": [
        "###9. What is a constructor in Python\n",
        "A constructor is the `__init__` method in Python, automatically called when a new object is created."
      ]
    },
    {
      "cell_type": "markdown",
      "id": "f79ff940",
      "metadata": {
        "id": "f79ff940"
      },
      "source": [
        "###10. What are class and static methods in Python\n",
        "- **Class methods** use `@classmethod` and take `cls` as the first argument.\n",
        "- **Static methods** use `@staticmethod` and do not take `self` or `cls`."
      ]
    },
    {
      "cell_type": "markdown",
      "id": "a3bb19d4",
      "metadata": {
        "id": "a3bb19d4"
      },
      "source": [
        "###11. What is method overloading in Python\n",
        "Python doesn't support traditional method overloading, but default parameters can be used to mimic it."
      ]
    },
    {
      "cell_type": "markdown",
      "id": "e0c07fde",
      "metadata": {
        "id": "e0c07fde"
      },
      "source": [
        "###12. What is method overriding in OOP\n",
        "Method overriding occurs when a child class defines a method with the same name as one in its parent class, replacing the parent's implementation."
      ]
    },
    {
      "cell_type": "markdown",
      "id": "4ad54047",
      "metadata": {
        "id": "4ad54047"
      },
      "source": [
        "###13. What is a property decorator in Python\n",
        "`@property` allows defining methods that can be accessed like attributes."
      ]
    },
    {
      "cell_type": "markdown",
      "id": "abc896fd",
      "metadata": {
        "id": "abc896fd"
      },
      "source": [
        "###14. Why is polymorphism important in OOP\n",
        "It increases flexibility and code reusability by allowing different object types to be accessed through the same interface."
      ]
    },
    {
      "cell_type": "markdown",
      "id": "a0c03323",
      "metadata": {
        "id": "a0c03323"
      },
      "source": [
        "###15. What is an abstract class in Python\n",
        "An abstract class is a class with abstract methods (defined with `@abstractmethod`) that must be implemented by subclasses."
      ]
    },
    {
      "cell_type": "markdown",
      "id": "f2f03db0",
      "metadata": {
        "id": "f2f03db0"
      },
      "source": [
        "###16. What are the advantages of OOP\n",
        "- Reusability\n",
        "- Modularity\n",
        "- Encapsulation\n",
        "- Easier maintenance"
      ]
    },
    {
      "cell_type": "markdown",
      "id": "8ec02ccf",
      "metadata": {
        "id": "8ec02ccf"
      },
      "source": [
        "###17. What is the difference between a class variable and an instance variable\n",
        "- **Class variable**: shared among all instances.\n",
        "- **Instance variable**: unique to each instance."
      ]
    },
    {
      "cell_type": "markdown",
      "id": "6484d5f0",
      "metadata": {
        "id": "6484d5f0"
      },
      "source": [
        "###18. What is multiple inheritance in Python\n",
        "When a class inherits from more than one parent class."
      ]
    },
    {
      "cell_type": "markdown",
      "id": "e52a89f5",
      "metadata": {
        "id": "e52a89f5"
      },
      "source": [
        "###19. Explain the purpose of `__str__` and `__repr__` methods in Python\n",
        "- `__str__`: user-friendly string representation.\n",
        "- `__repr__`: developer-friendly representation."
      ]
    },
    {
      "cell_type": "markdown",
      "id": "a6ce5a21",
      "metadata": {
        "id": "a6ce5a21"
      },
      "source": [
        "###20 What is the significance of the `super()` function in Python\n",
        "`super()` is used to call a method from the parent class."
      ]
    },
    {
      "cell_type": "markdown",
      "id": "4091aff5",
      "metadata": {
        "id": "4091aff5"
      },
      "source": [
        "###21. What is the significance of the `__del__` method in Python\n",
        "`__del__` is a destructor method called when an object is deleted."
      ]
    },
    {
      "cell_type": "markdown",
      "id": "ab430fe5",
      "metadata": {
        "id": "ab430fe5"
      },
      "source": [
        "###22. What is the difference between @staticmethod and @classmethod in Python\n",
        "- `@staticmethod`: does not take class or instance reference.\n",
        "- `@classmethod`: takes class reference as `cls`."
      ]
    },
    {
      "cell_type": "markdown",
      "id": "c644efba",
      "metadata": {
        "id": "c644efba"
      },
      "source": [
        "###23. How does polymorphism work in Python with inheritance\n",
        "It allows child classes to define different implementations for methods from the parent class."
      ]
    },
    {
      "cell_type": "markdown",
      "id": "ac2e1353",
      "metadata": {
        "id": "ac2e1353"
      },
      "source": [
        "###24. What is method chaining in Python OOP\n",
        "Method chaining is calling multiple methods on the same object in one line by returning `self`."
      ]
    },
    {
      "cell_type": "markdown",
      "id": "1a62a009",
      "metadata": {
        "id": "1a62a009"
      },
      "source": [
        "###25. What is the purpose of the __call__ method in Python?\n",
        "Allows an object to be called like a function."
      ]
    },
    {
      "cell_type": "markdown",
      "source": [
        "## **Practical Questions**"
      ],
      "metadata": {
        "id": "Ms3eFYItMbML"
      },
      "id": "Ms3eFYItMbML"
    },
    {
      "cell_type": "markdown",
      "id": "bbae9395",
      "metadata": {
        "id": "bbae9395"
      },
      "source": [
        "###1. Create a parent class Animal with a method speak() that prints a generic message. Create a child class Dog that overrides the speak() method to print 'Bark!'."
      ]
    },
    {
      "cell_type": "code",
      "execution_count": 1,
      "id": "aac6cc68",
      "metadata": {
        "colab": {
          "base_uri": "https://localhost:8080/"
        },
        "id": "aac6cc68",
        "outputId": "7c6f8540-15ed-4e4f-9e30-42a044419b7a"
      },
      "outputs": [
        {
          "output_type": "stream",
          "name": "stdout",
          "text": [
            "Bark!\n"
          ]
        }
      ],
      "source": [
        "class Animal:\n",
        "    def speak(self):\n",
        "        print('Animal speaks')\n",
        "class Dog(Animal):\n",
        "    def speak(self):\n",
        "        print('Bark!')\n",
        "d = Dog()\n",
        "d.speak()"
      ]
    },
    {
      "cell_type": "markdown",
      "id": "3d315a9a",
      "metadata": {
        "id": "3d315a9a"
      },
      "source": [
        "###2. Write a program to create an abstract class Shape with a method area(). Derive classes Circle and Rectangle from it and implement the area() method in both."
      ]
    },
    {
      "cell_type": "code",
      "execution_count": 2,
      "id": "e439e605",
      "metadata": {
        "colab": {
          "base_uri": "https://localhost:8080/"
        },
        "id": "e439e605",
        "outputId": "058ec344-0916-4eac-85f5-9f106a6dedaa"
      },
      "outputs": [
        {
          "output_type": "stream",
          "name": "stdout",
          "text": [
            "78.53981633974483\n",
            "24\n"
          ]
        }
      ],
      "source": [
        "from abc import ABC, abstractmethod\n",
        "import math\n",
        "class Shape(ABC):\n",
        "    @abstractmethod\n",
        "    def area(self): pass\n",
        "class Circle(Shape):\n",
        "    def __init__(self, radius): self.radius = radius\n",
        "    def area(self): return math.pi * self.radius**2\n",
        "class Rectangle(Shape):\n",
        "    def __init__(self, length, width): self.length, self.width = length, width\n",
        "    def area(self): return self.length * self.width\n",
        "print(Circle(5).area())\n",
        "print(Rectangle(4, 6).area())"
      ]
    },
    {
      "cell_type": "markdown",
      "id": "bee1b9cb",
      "metadata": {
        "id": "bee1b9cb"
      },
      "source": [
        "###3. Implement a multi-level inheritance scenario where a class Vehicle has an attribute type. Derive a class Car and further derive a class ElectricCar that adds a battery attribute."
      ]
    },
    {
      "cell_type": "code",
      "execution_count": 3,
      "id": "d6efdb31",
      "metadata": {
        "colab": {
          "base_uri": "https://localhost:8080/"
        },
        "id": "d6efdb31",
        "outputId": "c4ee4679-8358-4341-96cc-1ca2cfe17854"
      },
      "outputs": [
        {
          "output_type": "stream",
          "name": "stdout",
          "text": [
            "4-wheeler Tesla 100kWh\n"
          ]
        }
      ],
      "source": [
        "class Vehicle:\n",
        "    def __init__(self, type): self.type = type\n",
        "class Car(Vehicle):\n",
        "    def __init__(self, type, brand): super().__init__(type); self.brand = brand\n",
        "class ElectricCar(Car):\n",
        "    def __init__(self, type, brand, battery): super().__init__(type, brand); self.battery = battery\n",
        "ec = ElectricCar('4-wheeler', 'Tesla', '100kWh')\n",
        "print(ec.type, ec.brand, ec.battery)"
      ]
    },
    {
      "cell_type": "markdown",
      "id": "119d44be",
      "metadata": {
        "id": "119d44be"
      },
      "source": [
        "###4. Demonstrate polymorphism by creating a base class Bird with a method fly(). Create two derived classes Sparrow and Penguin that override the fly() method."
      ]
    },
    {
      "cell_type": "code",
      "execution_count": 4,
      "id": "5002cf8b",
      "metadata": {
        "colab": {
          "base_uri": "https://localhost:8080/"
        },
        "id": "5002cf8b",
        "outputId": "447d8037-cd36-431f-a2ce-ea9eede38f9c"
      },
      "outputs": [
        {
          "output_type": "stream",
          "name": "stdout",
          "text": [
            "Sparrow flies high\n",
            "Penguins cannot fly\n"
          ]
        }
      ],
      "source": [
        "class Bird:\n",
        "    def fly(self): print('Bird is flying')\n",
        "class Sparrow(Bird):\n",
        "    def fly(self): print('Sparrow flies high')\n",
        "class Penguin(Bird):\n",
        "    def fly(self): print('Penguins cannot fly')\n",
        "for bird in [Sparrow(), Penguin()]: bird.fly()"
      ]
    },
    {
      "cell_type": "markdown",
      "id": "224f2444",
      "metadata": {
        "id": "224f2444"
      },
      "source": [
        "###5. Write a program to demonstrate encapsulation by creating a class BankAccount with private attributes balance and methods to deposit, withdraw, and check balance."
      ]
    },
    {
      "cell_type": "code",
      "execution_count": 5,
      "id": "c2802cec",
      "metadata": {
        "colab": {
          "base_uri": "https://localhost:8080/"
        },
        "id": "c2802cec",
        "outputId": "73d4187b-3baa-442e-a9d1-1bdb4dda41f6"
      },
      "outputs": [
        {
          "output_type": "stream",
          "name": "stdout",
          "text": [
            "300\n"
          ]
        }
      ],
      "source": [
        "class BankAccount:\n",
        "    def __init__(self): self.__balance = 0\n",
        "    def deposit(self, amount): self.__balance += amount\n",
        "    def withdraw(self, amount):\n",
        "        if amount <= self.__balance: self.__balance -= amount\n",
        "        else: print('Insufficient funds')\n",
        "    def get_balance(self): return self.__balance\n",
        "acc = BankAccount()\n",
        "acc.deposit(500)\n",
        "acc.withdraw(200)\n",
        "print(acc.get_balance())"
      ]
    },
    {
      "cell_type": "markdown",
      "id": "1e32c513",
      "metadata": {
        "id": "1e32c513"
      },
      "source": [
        "###6. Demonstrate runtime polymorphism using a method play() in a base class Instrument. Derive classes Guitar and Piano that implement their own version of play()."
      ]
    },
    {
      "cell_type": "code",
      "execution_count": 6,
      "id": "e8a71f72",
      "metadata": {
        "colab": {
          "base_uri": "https://localhost:8080/"
        },
        "id": "e8a71f72",
        "outputId": "56c37829-c32f-4fc9-d6cb-f7c928ecbae1"
      },
      "outputs": [
        {
          "output_type": "stream",
          "name": "stdout",
          "text": [
            "Guitar strumming\n",
            "Piano melody\n"
          ]
        }
      ],
      "source": [
        "class Instrument:\n",
        "    def play(self): print('Instrument playing')\n",
        "class Guitar(Instrument):\n",
        "    def play(self): print('Guitar strumming')\n",
        "class Piano(Instrument):\n",
        "    def play(self): print('Piano melody')\n",
        "for inst in [Guitar(), Piano()]: inst.play()"
      ]
    },
    {
      "cell_type": "markdown",
      "id": "f66d0883",
      "metadata": {
        "id": "f66d0883"
      },
      "source": [
        "###7. Create a class MathOperations with a class method add_numbers() to add two numbers and a static method subtract_numbers() to subtract two numbers."
      ]
    },
    {
      "cell_type": "code",
      "execution_count": 7,
      "id": "467d0162",
      "metadata": {
        "colab": {
          "base_uri": "https://localhost:8080/"
        },
        "id": "467d0162",
        "outputId": "bdad6778-08ab-44fb-fef6-0915348d8414"
      },
      "outputs": [
        {
          "output_type": "stream",
          "name": "stdout",
          "text": [
            "8\n",
            "6\n"
          ]
        }
      ],
      "source": [
        "class MathOperations:\n",
        "    @classmethod\n",
        "    def add_numbers(cls, a, b): return a + b\n",
        "    @staticmethod\n",
        "    def subtract_numbers(a, b): return a - b\n",
        "print(MathOperations.add_numbers(5, 3))\n",
        "print(MathOperations.subtract_numbers(10, 4))"
      ]
    },
    {
      "cell_type": "markdown",
      "id": "0a6d0003",
      "metadata": {
        "id": "0a6d0003"
      },
      "source": [
        "###8. Implement a class Person with a class method to count the total number of persons created."
      ]
    },
    {
      "cell_type": "code",
      "execution_count": 8,
      "id": "a21ad737",
      "metadata": {
        "colab": {
          "base_uri": "https://localhost:8080/"
        },
        "id": "a21ad737",
        "outputId": "b6f77e23-5bc4-455e-86e9-191af6844f89"
      },
      "outputs": [
        {
          "output_type": "stream",
          "name": "stdout",
          "text": [
            "2\n"
          ]
        }
      ],
      "source": [
        "class Person:\n",
        "    count = 0\n",
        "    def __init__(self, name): self.name = name; Person.count += 1\n",
        "    @classmethod\n",
        "    def total_persons(cls): return cls.count\n",
        "p1 = Person('A'); p2 = Person('B')\n",
        "print(Person.total_persons())"
      ]
    },
    {
      "cell_type": "markdown",
      "id": "23d11978",
      "metadata": {
        "id": "23d11978"
      },
      "source": [
        "###9. Write a class Fraction with attributes numerator and denominator. Override the str method to display the fraction as 'numerator/denominator'."
      ]
    },
    {
      "cell_type": "code",
      "execution_count": 9,
      "id": "212db815",
      "metadata": {
        "colab": {
          "base_uri": "https://localhost:8080/"
        },
        "id": "212db815",
        "outputId": "6a663d9f-0df4-4070-8460-41e886cd154e"
      },
      "outputs": [
        {
          "output_type": "stream",
          "name": "stdout",
          "text": [
            "3/4\n"
          ]
        }
      ],
      "source": [
        "class Fraction:\n",
        "    def __init__(self, num, den): self.num, self.den = num, den\n",
        "    def __str__(self): return f\"{self.num}/{self.den}\"\n",
        "print(Fraction(3, 4))"
      ]
    },
    {
      "cell_type": "markdown",
      "id": "d29ae2d6",
      "metadata": {
        "id": "d29ae2d6"
      },
      "source": [
        "###10. Demonstrate operator overloading by creating a class Vector and overriding the add method to add two vectors."
      ]
    },
    {
      "cell_type": "code",
      "execution_count": 10,
      "id": "74be8ed5",
      "metadata": {
        "colab": {
          "base_uri": "https://localhost:8080/"
        },
        "id": "74be8ed5",
        "outputId": "61b6057d-5c14-4297-a8e1-21e3e2d534c1"
      },
      "outputs": [
        {
          "output_type": "stream",
          "name": "stdout",
          "text": [
            "(4, 6)\n"
          ]
        }
      ],
      "source": [
        "class Vector:\n",
        "    def __init__(self, x, y): self.x, self.y = x, y\n",
        "    def __add__(self, other): return Vector(self.x + other.x, self.y + other.y)\n",
        "    def __str__(self): return f\"({self.x}, {self.y})\"\n",
        "v1, v2 = Vector(1, 2), Vector(3, 4)\n",
        "print(v1 + v2)"
      ]
    },
    {
      "cell_type": "markdown",
      "id": "04518ea6",
      "metadata": {
        "id": "04518ea6"
      },
      "source": [
        "###11. Create a class Person with attributes name and age. Add a method greet() that prints 'Hello, my name is {name} and I am {age} years old.'"
      ]
    },
    {
      "cell_type": "code",
      "execution_count": 11,
      "id": "b2dbb039",
      "metadata": {
        "colab": {
          "base_uri": "https://localhost:8080/"
        },
        "id": "b2dbb039",
        "outputId": "080626c5-7ecb-4e6d-dbde-15cb9188959e"
      },
      "outputs": [
        {
          "output_type": "stream",
          "name": "stdout",
          "text": [
            "Hello, my name is Alice and I am 30 years old.\n"
          ]
        }
      ],
      "source": [
        "class Person:\n",
        "    def __init__(self, name, age): self.name, self.age = name, age\n",
        "    def greet(self): print(f\"Hello, my name is {self.name} and I am {self.age} years old.\")\n",
        "Person('Alice', 30).greet()"
      ]
    },
    {
      "cell_type": "markdown",
      "id": "d8e3459e",
      "metadata": {
        "id": "d8e3459e"
      },
      "source": [
        "###12. Implement a class Student with attributes name and grades. Create a method average_grade() to compute the average of the grades."
      ]
    },
    {
      "cell_type": "code",
      "execution_count": 12,
      "id": "1994e3ce",
      "metadata": {
        "colab": {
          "base_uri": "https://localhost:8080/"
        },
        "id": "1994e3ce",
        "outputId": "a8e8b273-b026-4d2d-8983-e97e3c044675"
      },
      "outputs": [
        {
          "output_type": "stream",
          "name": "stdout",
          "text": [
            "80.0\n"
          ]
        }
      ],
      "source": [
        "class Student:\n",
        "    def __init__(self, name, grades): self.name, self.grades = name, grades\n",
        "    def average_grade(self): return sum(self.grades) / len(self.grades)\n",
        "print(Student('Bob', [80, 90, 70]).average_grade())"
      ]
    },
    {
      "cell_type": "markdown",
      "id": "b160b90b",
      "metadata": {
        "id": "b160b90b"
      },
      "source": [
        "###13. Create a class Rectangle with methods set_dimensions() to set the dimensions and area() to calculate the area."
      ]
    },
    {
      "cell_type": "code",
      "execution_count": 13,
      "id": "03c067c8",
      "metadata": {
        "colab": {
          "base_uri": "https://localhost:8080/"
        },
        "id": "03c067c8",
        "outputId": "14db896f-7c77-435d-8c1e-85084f6f00ae"
      },
      "outputs": [
        {
          "output_type": "stream",
          "name": "stdout",
          "text": [
            "15\n"
          ]
        }
      ],
      "source": [
        "class Rectangle:\n",
        "    def set_dimensions(self, l, w): self.l, self.w = l, w\n",
        "    def area(self): return self.l * self.w\n",
        "r = Rectangle()\n",
        "r.set_dimensions(5, 3)\n",
        "print(r.area())"
      ]
    },
    {
      "cell_type": "markdown",
      "id": "c130154a",
      "metadata": {
        "id": "c130154a"
      },
      "source": [
        "###14. Create a class Employee with a method calculate_salary() that computes the salary based on hours worked and hourly rate. Create a derived class Manager that adds a bonus to the salary."
      ]
    },
    {
      "cell_type": "code",
      "execution_count": 14,
      "id": "2b2a2efb",
      "metadata": {
        "colab": {
          "base_uri": "https://localhost:8080/"
        },
        "id": "2b2a2efb",
        "outputId": "924e7aeb-acfd-4795-9b7b-bdcb5f707c21"
      },
      "outputs": [
        {
          "output_type": "stream",
          "name": "stdout",
          "text": [
            "9000\n"
          ]
        }
      ],
      "source": [
        "class Employee:\n",
        "    def calculate_salary(self, hours, rate): return hours * rate\n",
        "class Manager(Employee):\n",
        "    def calculate_salary(self, hours, rate, bonus): return super().calculate_salary(hours, rate) + bonus\n",
        "print(Manager().calculate_salary(160, 50, 1000))"
      ]
    },
    {
      "cell_type": "markdown",
      "id": "9a35136b",
      "metadata": {
        "id": "9a35136b"
      },
      "source": [
        "###15. Create a class Product with attributes name, price, and quantity. Implement a method total_price() that calculates the total price of the product."
      ]
    },
    {
      "cell_type": "code",
      "execution_count": 15,
      "id": "048c9b94",
      "metadata": {
        "colab": {
          "base_uri": "https://localhost:8080/"
        },
        "id": "048c9b94",
        "outputId": "1994f637-bc9d-42d4-ddcf-54d0e32edd95"
      },
      "outputs": [
        {
          "output_type": "stream",
          "name": "stdout",
          "text": [
            "2000\n"
          ]
        }
      ],
      "source": [
        "class Product:\n",
        "    def __init__(self, name, price, qty): self.name, self.price, self.qty = name, price, qty\n",
        "    def total_price(self): return self.price * self.qty\n",
        "print(Product('Laptop', 1000, 2).total_price())"
      ]
    },
    {
      "cell_type": "markdown",
      "id": "749ba018",
      "metadata": {
        "id": "749ba018"
      },
      "source": [
        "###16. Create a class Animal with an abstract method sound(). Create two derived classes Cow and Sheep that implement the sound() method."
      ]
    },
    {
      "cell_type": "code",
      "execution_count": 16,
      "id": "2c8e4f8a",
      "metadata": {
        "colab": {
          "base_uri": "https://localhost:8080/"
        },
        "id": "2c8e4f8a",
        "outputId": "11da9dac-fd1e-447d-edbe-48676142eca5"
      },
      "outputs": [
        {
          "output_type": "stream",
          "name": "stdout",
          "text": [
            "Moo\n",
            "Baa\n"
          ]
        }
      ],
      "source": [
        "from abc import ABC, abstractmethod\n",
        "class Animal(ABC):\n",
        "    @abstractmethod\n",
        "    def sound(self): pass\n",
        "class Cow(Animal):\n",
        "    def sound(self): print('Moo')\n",
        "class Sheep(Animal):\n",
        "    def sound(self): print('Baa')\n",
        "for a in [Cow(), Sheep()]: a.sound()"
      ]
    },
    {
      "cell_type": "markdown",
      "id": "fae8a12a",
      "metadata": {
        "id": "fae8a12a"
      },
      "source": [
        "###17. Create a class Book with attributes title, author, and year_published. Add a method get_book_info() that returns a formatted string with the book's details."
      ]
    },
    {
      "cell_type": "code",
      "execution_count": 17,
      "id": "407993b8",
      "metadata": {
        "colab": {
          "base_uri": "https://localhost:8080/"
        },
        "id": "407993b8",
        "outputId": "d159e559-05bd-4339-fdf6-dbd0674eb969"
      },
      "outputs": [
        {
          "output_type": "stream",
          "name": "stdout",
          "text": [
            "1984 by Orwell, 1949\n"
          ]
        }
      ],
      "source": [
        "class Book:\n",
        "    def __init__(self, title, author, year): self.title, self.author, self.year = title, author, year\n",
        "    def get_book_info(self): return f\"{self.title} by {self.author}, {self.year}\"\n",
        "print(Book('1984', 'Orwell', 1949).get_book_info())"
      ]
    },
    {
      "cell_type": "markdown",
      "id": "1b056a71",
      "metadata": {
        "id": "1b056a71"
      },
      "source": [
        "###18. Create a class House with attributes address and price. Create a derived class Mansion that adds an attribute number_of_rooms."
      ]
    },
    {
      "cell_type": "code",
      "execution_count": 18,
      "id": "302b39f5",
      "metadata": {
        "colab": {
          "base_uri": "https://localhost:8080/"
        },
        "id": "302b39f5",
        "outputId": "86f5d6ca-14db-47c9-c5c5-8d816fa9d970"
      },
      "outputs": [
        {
          "output_type": "stream",
          "name": "stdout",
          "text": [
            "123 St 500000 10\n"
          ]
        }
      ],
      "source": [
        "class House:\n",
        "    def __init__(self, address, price): self.address, self.price = address, price\n",
        "class Mansion(House):\n",
        "    def __init__(self, address, price, rooms): super().__init__(address, price); self.rooms = rooms\n",
        "m = Mansion('123 St', 500000, 10)\n",
        "print(m.address, m.price, m.rooms)"
      ]
    }
  ],
  "metadata": {
    "colab": {
      "provenance": []
    },
    "language_info": {
      "name": "python"
    },
    "kernelspec": {
      "name": "python3",
      "display_name": "Python 3"
    }
  },
  "nbformat": 4,
  "nbformat_minor": 5
}