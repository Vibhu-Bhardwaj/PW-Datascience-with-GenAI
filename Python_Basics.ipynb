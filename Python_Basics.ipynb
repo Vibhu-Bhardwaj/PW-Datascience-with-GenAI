{
  "cells": [
    {
      "cell_type": "markdown",
      "id": "c0a751b2",
      "metadata": {
        "id": "c0a751b2"
      },
      "source": [
        "# Python Basics\n"
      ]
    },
    {
      "cell_type": "markdown",
      "id": "ede515ca",
      "metadata": {
        "id": "ede515ca"
      },
      "source": [
        "### 1. What is Python, and why is it popular?\n",
        "**Answer:**\n",
        "Python is a high-level, interpreted programming language known for its simple syntax and readability. It supports multiple programming paradigms like procedural, object-oriented, and functional programming.\n",
        "\n",
        "**Why it's popular:**\n",
        "- Easy to learn and read\n",
        "- Extensive libraries and community\n",
        "- Versatile (used in web, AI, data science, automation, etc.)"
      ]
    },
    {
      "cell_type": "markdown",
      "id": "b92f58a0",
      "metadata": {
        "id": "b92f58a0"
      },
      "source": [
        "### 2. What is an interpreter in Python?\n",
        "**Answer:**\n",
        "An interpreter in Python reads and executes code line-by-line. Python’s default interpreter is CPython."
      ]
    },
    {
      "cell_type": "markdown",
      "id": "b5d03027",
      "metadata": {
        "id": "b5d03027"
      },
      "source": [
        "### 3. What are pre-defined keywords in Python?\n",
        "**Answer:**\n",
        "Pre-defined keywords are reserved words that have special meaning in Python, like `if`, `for`, `while`, `class`, etc."
      ]
    },
    {
      "cell_type": "markdown",
      "id": "6186498f",
      "metadata": {
        "id": "6186498f"
      },
      "source": [
        "### 4. Can keywords be used as variable names?\n",
        "**Answer:**\n",
        "No. Keywords are reserved and cannot be used as variable names."
      ]
    },
    {
      "cell_type": "markdown",
      "id": "7038a6d0",
      "metadata": {
        "id": "7038a6d0"
      },
      "source": [
        "### 5. What is mutability in Python?\n",
        "**Answer:**\n",
        "Mutability refers to whether an object can be changed after it is created. Lists are mutable, tuples are immutable."
      ]
    },
    {
      "cell_type": "markdown",
      "id": "8a405d8a",
      "metadata": {
        "id": "8a405d8a"
      },
      "source": [
        "### 6. Why are lists mutable, but tuples are immutable?\n",
        "**Answer:**\n",
        "Lists are designed for dynamic data, allowing modifications. Tuples are used to store fixed data and are immutable for performance and safety."
      ]
    },
    {
      "cell_type": "markdown",
      "id": "e3199d02",
      "metadata": {
        "id": "e3199d02"
      },
      "source": [
        "### 7. What is the difference between '==' and 'is' operators in Python?\n",
        "**Answer:**\n",
        "`==` checks if values are equal. `is` checks if they refer to the same object in memory."
      ]
    },
    {
      "cell_type": "markdown",
      "id": "3d46086a",
      "metadata": {
        "id": "3d46086a"
      },
      "source": [
        "### 8. What are logical operators in Python?\n",
        "**Answer:**\n",
        "`and`, `or`, and `not` are logical operators used to combine boolean expressions."
      ]
    },
    {
      "cell_type": "markdown",
      "id": "f542b44a",
      "metadata": {
        "id": "f542b44a"
      },
      "source": [
        "### 9. What is type casting in Python?\n",
        "**Answer:**\n",
        "Type casting means converting one data type to another, e.g., string to int using `int()`."
      ]
    },
    {
      "cell_type": "markdown",
      "id": "ed2573bc",
      "metadata": {
        "id": "ed2573bc"
      },
      "source": [
        "### 10. What is the difference between implicit and explicit type casting?\n",
        "**Answer:**\n",
        "- **Implicit**: done automatically by Python (e.g., `int + float = float`)\n",
        "- **Explicit**: done manually by the programmer using functions like `int()`, `float()` etc."
      ]
    },
    {
      "cell_type": "markdown",
      "id": "3475bc2a",
      "metadata": {
        "id": "3475bc2a"
      },
      "source": [
        "### 11. What is the purpose of conditional statements in Python?\n",
        "**Answer:**\n",
        "Conditional statements like `if`, `elif`, `else` allow decision making in code."
      ]
    },
    {
      "cell_type": "markdown",
      "id": "acbf7aef",
      "metadata": {
        "id": "acbf7aef"
      },
      "source": [
        "### 12. How does the elif statement work?\n",
        "**Answer:**\n",
        "`elif` allows checking multiple conditions after an `if`. If true, its block is executed."
      ]
    },
    {
      "cell_type": "markdown",
      "id": "21a705d0",
      "metadata": {
        "id": "21a705d0"
      },
      "source": [
        "### 13. What is the difference between for and while loops?\n",
        "**Answer:**\n",
        "`for` loop is used when the number of iterations is known.\n",
        "`while` loop is used when the loop should continue until a condition becomes false."
      ]
    },
    {
      "cell_type": "markdown",
      "id": "c167048b",
      "metadata": {
        "id": "c167048b"
      },
      "source": [
        "### 14. Describe a scenario where a while loop is more suitable than a for loop.\n",
        "**Answer:**\n",
        "Example: Keep asking for password input until it's correct:\n",
        "```python\n",
        "password = ''\n",
        "while password != 'admin':\n",
        "    password = input('Enter password: ')\n",
        "```"
      ]
    },
    {
      "cell_type": "markdown",
      "source": [
        "## **Practical Questions**"
      ],
      "metadata": {
        "id": "57CLgBrUuO6R"
      },
      "id": "57CLgBrUuO6R"
    },
    {
      "cell_type": "markdown",
      "id": "f08a1ad9",
      "metadata": {
        "id": "f08a1ad9"
      },
      "source": [
        "### 1. Write a Python program to print \"Hello, World!\""
      ]
    },
    {
      "cell_type": "code",
      "execution_count": null,
      "id": "7bbf3ced",
      "metadata": {
        "id": "7bbf3ced"
      },
      "outputs": [],
      "source": [
        "print('Hello, World!')"
      ]
    },
    {
      "cell_type": "markdown",
      "id": "a3c4c652",
      "metadata": {
        "id": "a3c4c652"
      },
      "source": [
        "### 2. Write a Python program that displays your name and age"
      ]
    },
    {
      "cell_type": "code",
      "execution_count": null,
      "id": "7966646a",
      "metadata": {
        "id": "7966646a"
      },
      "outputs": [],
      "source": [
        "name = 'Vibhu'\n",
        "age = 22\n",
        "print('Name:', name)\n",
        "print('Age:', age)"
      ]
    },
    {
      "cell_type": "markdown",
      "id": "895689bf",
      "metadata": {
        "id": "895689bf"
      },
      "source": [
        "### 3. Write code to print all the pre-defined keywords in Python using the keyword library."
      ]
    },
    {
      "cell_type": "code",
      "execution_count": null,
      "id": "e3b06174",
      "metadata": {
        "id": "e3b06174"
      },
      "outputs": [],
      "source": [
        "import keyword\n",
        "print(keyword.kwlist)"
      ]
    },
    {
      "cell_type": "markdown",
      "id": "e231f6c1",
      "metadata": {
        "id": "e231f6c1"
      },
      "source": [
        "### 4. Write a program that checks if a given word is a Python keyword."
      ]
    },
    {
      "cell_type": "code",
      "execution_count": null,
      "id": "5476bcce",
      "metadata": {
        "id": "5476bcce"
      },
      "outputs": [],
      "source": [
        "import keyword\n",
        "word = input('Enter a word: ')\n",
        "print('Is keyword?', keyword.iskeyword(word))"
      ]
    },
    {
      "cell_type": "markdown",
      "id": "eb0d5d79",
      "metadata": {
        "id": "eb0d5d79"
      },
      "source": [
        "### 5. Create a list and tuple in Python, and demonstrate how attempting to change an element works differently for each."
      ]
    },
    {
      "cell_type": "code",
      "execution_count": null,
      "id": "ef45f42f",
      "metadata": {
        "id": "ef45f42f"
      },
      "outputs": [],
      "source": [
        "my_list = [1, 2, 3]\n",
        "my_list[0] = 10\n",
        "print('Modified list:', my_list)\n",
        "\n",
        "my_tuple = (1, 2, 3)\n",
        "try:\n",
        "    my_tuple[0] = 10\n",
        "except TypeError as e:\n",
        "    print('Error with tuple:', e)"
      ]
    },
    {
      "cell_type": "markdown",
      "id": "a54423f0",
      "metadata": {
        "id": "a54423f0"
      },
      "source": [
        "### 6. Write a function to demonstrate the behavior of mutable and immutable arguments."
      ]
    },
    {
      "cell_type": "code",
      "execution_count": null,
      "id": "c203e97f",
      "metadata": {
        "id": "c203e97f",
        "colab": {
          "base_uri": "https://localhost:8080/"
        },
        "outputId": "94740f65-409e-4541-f66c-2b67f256feea"
      },
      "outputs": [
        {
          "output_type": "stream",
          "name": "stdout",
          "text": [
            "Mutable list: [1, 2, 3, 100]\n",
            "Immutable int (after function): 20\n",
            "Original num: 10\n"
          ]
        }
      ],
      "source": [
        "def modify_list(lst):\n",
        "    lst.append(100)\n",
        "\n",
        "def modify_int(x):\n",
        "    x += 10\n",
        "    return x\n",
        "\n",
        "my_list = [1, 2, 3]\n",
        "modify_list(my_list)\n",
        "print('Mutable list:', my_list)\n",
        "\n",
        "num = 10\n",
        "print('Immutable int (after function):', modify_int(num))\n",
        "print('Original num:', num)"
      ]
    },
    {
      "cell_type": "markdown",
      "id": "38c9977a",
      "metadata": {
        "id": "38c9977a"
      },
      "source": [
        "### 7. Write a program that performs basic arithmetic operations on two user-input numbers."
      ]
    },
    {
      "cell_type": "code",
      "execution_count": null,
      "id": "8b971525",
      "metadata": {
        "id": "8b971525"
      },
      "outputs": [],
      "source": [
        "a = float(input('Enter first number: '))\n",
        "b = float(input('Enter second number: '))\n",
        "print('Addition:', a + b)\n",
        "print('Subtraction:', a - b)\n",
        "print('Multiplication:', a * b)\n",
        "print('Division:', a / b)"
      ]
    },
    {
      "cell_type": "markdown",
      "id": "1ca56b50",
      "metadata": {
        "id": "1ca56b50"
      },
      "source": [
        "### 8. Write a program to demonstrate the use of logical operators.\n"
      ]
    },
    {
      "cell_type": "code",
      "execution_count": null,
      "id": "5029f0ff",
      "metadata": {
        "id": "5029f0ff"
      },
      "outputs": [],
      "source": [
        "x = 10\n",
        "y = 5\n",
        "print(x > 5 and y < 10)\n",
        "print(x < 5 or y < 10)\n",
        "print(not(x > y))"
      ]
    },
    {
      "cell_type": "markdown",
      "id": "d0343d4d",
      "metadata": {
        "id": "d0343d4d"
      },
      "source": [
        "### 9. Write a Python program to convert user input from string to integer, float, and boolean types."
      ]
    },
    {
      "cell_type": "code",
      "execution_count": null,
      "id": "94e8fa93",
      "metadata": {
        "id": "94e8fa93"
      },
      "outputs": [],
      "source": [
        "val = input('Enter a value: ')\n",
        "print('As integer:', int(val))\n",
        "print('As float:', float(val))\n",
        "print('As boolean:', bool(val))"
      ]
    },
    {
      "cell_type": "markdown",
      "id": "4a708db4",
      "metadata": {
        "id": "4a708db4"
      },
      "source": [
        "### 10. Write code to demonstrate type casting with list elements."
      ]
    },
    {
      "cell_type": "code",
      "execution_count": null,
      "id": "a3b90774",
      "metadata": {
        "id": "a3b90774"
      },
      "outputs": [],
      "source": [
        "str_list = ['1', '2', '3']\n",
        "int_list = list(map(int, str_list))\n",
        "print('Converted to int:', int_list)"
      ]
    },
    {
      "cell_type": "markdown",
      "id": "a9430f1f",
      "metadata": {
        "id": "a9430f1f"
      },
      "source": [
        "### 11. Write a program that checks if a number is positive, negative, or zero."
      ]
    },
    {
      "cell_type": "code",
      "execution_count": null,
      "id": "2b65b5de",
      "metadata": {
        "id": "2b65b5de"
      },
      "outputs": [],
      "source": [
        "num = int(input('Enter a number: '))\n",
        "if num > 0:\n",
        "    print('Positive')\n",
        "elif num < 0:\n",
        "    print('Negative')\n",
        "else:\n",
        "    print('Zero')"
      ]
    },
    {
      "cell_type": "markdown",
      "id": "2ddb4822",
      "metadata": {
        "id": "2ddb4822"
      },
      "source": [
        "### 12. Write a for loop to print numbers from 1 to 10."
      ]
    },
    {
      "cell_type": "code",
      "execution_count": null,
      "id": "053ed694",
      "metadata": {
        "id": "053ed694"
      },
      "outputs": [],
      "source": [
        "for i in range(1, 11):\n",
        "    print(i)"
      ]
    },
    {
      "cell_type": "markdown",
      "id": "ac94580c",
      "metadata": {
        "id": "ac94580c"
      },
      "source": [
        "### 13. Write a Python program to find the sum of all even numbers between 1 and 50."
      ]
    },
    {
      "cell_type": "code",
      "execution_count": null,
      "id": "69b6c1a0",
      "metadata": {
        "id": "69b6c1a0"
      },
      "outputs": [],
      "source": [
        "even_sum = sum(i for i in range(1, 50) if i % 2 == 0)\n",
        "print('Sum of even numbers:', even_sum)"
      ]
    },
    {
      "cell_type": "markdown",
      "id": "7ddf2cab",
      "metadata": {
        "id": "7ddf2cab"
      },
      "source": [
        "### 14. Write a program to reverse a string using a while loop.\n"
      ]
    },
    {
      "cell_type": "code",
      "execution_count": null,
      "id": "8c7bfd25",
      "metadata": {
        "id": "8c7bfd25"
      },
      "outputs": [],
      "source": [
        "s = input('Enter a string: ')\n",
        "rev = ''\n",
        "i = len(s) - 1\n",
        "while i >= 0:\n",
        "    rev += s[i]\n",
        "    i -= 1\n",
        "print('Reversed string:', rev)"
      ]
    },
    {
      "cell_type": "markdown",
      "id": "a85ceca1",
      "metadata": {
        "id": "a85ceca1"
      },
      "source": [
        "### 15. Write a Python program to calculate the factorial of a number provided by the user using a while loop."
      ]
    },
    {
      "cell_type": "code",
      "execution_count": null,
      "id": "815d2acb",
      "metadata": {
        "id": "815d2acb"
      },
      "outputs": [],
      "source": [
        "num = int(input('Enter a number: '))\n",
        "factorial = 1\n",
        "i = 1\n",
        "while i <= num:\n",
        "    factorial *= i\n",
        "    i += 1\n",
        "print('Factorial:', factorial)"
      ]
    }
  ],
  "metadata": {
    "colab": {
      "provenance": []
    },
    "language_info": {
      "name": "python"
    },
    "kernelspec": {
      "name": "python3",
      "display_name": "Python 3"
    }
  },
  "nbformat": 4,
  "nbformat_minor": 5
}